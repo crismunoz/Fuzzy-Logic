{
  "nbformat": 4,
  "nbformat_minor": 0,
  "metadata": {
    "colab": {
      "name": "Copy of Fuzzy Rules (Dolar).ipynb",
      "provenance": [],
      "collapsed_sections": [],
      "include_colab_link": true
    },
    "kernelspec": {
      "display_name": "RelationExtraction",
      "language": "python",
      "name": "relationextraction"
    },
    "language_info": {
      "codemirror_mode": {
        "name": "ipython",
        "version": 3
      },
      "file_extension": ".py",
      "mimetype": "text/x-python",
      "name": "python",
      "nbconvert_exporter": "python",
      "pygments_lexer": "ipython3",
      "version": "3.7.9"
    }
  },
  "cells": [
    {
      "cell_type": "markdown",
      "metadata": {
        "id": "view-in-github",
        "colab_type": "text"
      },
      "source": [
        "<a href=\"https://colab.research.google.com/github/crismunoz/Fuzzy-Logic/blob/master/6_RulesExtraction/Fuzzy_Rules_(Dolar).ipynb\" target=\"_parent\"><img src=\"https://colab.research.google.com/assets/colab-badge.svg\" alt=\"Open In Colab\"/></a>"
      ]
    },
    {
      "cell_type": "markdown",
      "metadata": {
        "id": "jHvM05qcwMrZ"
      },
      "source": [
        "Author: Cristian Muñoz Villalobos"
      ]
    },
    {
      "cell_type": "code",
      "metadata": {
        "id": "b7KrXSa-sVk5",
        "outputId": "5115621d-cc30-4116-e7ba-1e6f4fa6b445",
        "colab": {
          "base_uri": "https://localhost:8080/",
          "height": 672
        }
      },
      "source": [
        "!wget https://raw.githubusercontent.com/crismunoz/Fuzzy-Logic/master/6_RulesExtraction/Dolar.txt\n",
        "!wget https://raw.githubusercontent.com/crismunoz/Fuzzy-Logic/master/6_RulesExtraction/fuzzy_rules.py\n",
        "!pip install scikit-fuzzy"
      ],
      "execution_count": 1,
      "outputs": [
        {
          "output_type": "stream",
          "text": [
            "--2020-10-22 20:30:01--  https://raw.githubusercontent.com/crismunoz/Fuzzy-Logic/master/6_RulesExtraction/Dolar.txt\n",
            "Resolving raw.githubusercontent.com (raw.githubusercontent.com)... 151.101.0.133, 151.101.64.133, 151.101.128.133, ...\n",
            "Connecting to raw.githubusercontent.com (raw.githubusercontent.com)|151.101.0.133|:443... connected.\n",
            "HTTP request sent, awaiting response... 200 OK\n",
            "Length: 1871 (1.8K) [text/plain]\n",
            "Saving to: ‘Dolar.txt’\n",
            "\n",
            "\rDolar.txt             0%[                    ]       0  --.-KB/s               \rDolar.txt           100%[===================>]   1.83K  --.-KB/s    in 0s      \n",
            "\n",
            "2020-10-22 20:30:01 (31.9 MB/s) - ‘Dolar.txt’ saved [1871/1871]\n",
            "\n",
            "--2020-10-22 20:30:01--  https://raw.githubusercontent.com/crismunoz/Fuzzy-Logic/master/6_RulesExtraction/fuzzy_rules.py\n",
            "Resolving raw.githubusercontent.com (raw.githubusercontent.com)... 151.101.0.133, 151.101.64.133, 151.101.128.133, ...\n",
            "Connecting to raw.githubusercontent.com (raw.githubusercontent.com)|151.101.0.133|:443... connected.\n",
            "HTTP request sent, awaiting response... 200 OK\n",
            "Length: 4812 (4.7K) [text/plain]\n",
            "Saving to: ‘fuzzy_rules.py’\n",
            "\n",
            "fuzzy_rules.py      100%[===================>]   4.70K  --.-KB/s    in 0s      \n",
            "\n",
            "2020-10-22 20:30:01 (53.0 MB/s) - ‘fuzzy_rules.py’ saved [4812/4812]\n",
            "\n",
            "Collecting scikit-fuzzy\n",
            "\u001b[?25l  Downloading https://files.pythonhosted.org/packages/6c/f0/5eb5dbe0fd8dfe7d4651a8f4e591a196623a22b9e5339101e559695b4f6c/scikit-fuzzy-0.4.2.tar.gz (993kB)\n",
            "\u001b[K     |████████████████████████████████| 1.0MB 4.5MB/s \n",
            "\u001b[?25hRequirement already satisfied: numpy>=1.6.0 in /usr/local/lib/python3.6/dist-packages (from scikit-fuzzy) (1.18.5)\n",
            "Requirement already satisfied: scipy>=0.9.0 in /usr/local/lib/python3.6/dist-packages (from scikit-fuzzy) (1.4.1)\n",
            "Requirement already satisfied: networkx>=1.9.0 in /usr/local/lib/python3.6/dist-packages (from scikit-fuzzy) (2.5)\n",
            "Requirement already satisfied: decorator>=4.3.0 in /usr/local/lib/python3.6/dist-packages (from networkx>=1.9.0->scikit-fuzzy) (4.4.2)\n",
            "Building wheels for collected packages: scikit-fuzzy\n",
            "  Building wheel for scikit-fuzzy (setup.py) ... \u001b[?25l\u001b[?25hdone\n",
            "  Created wheel for scikit-fuzzy: filename=scikit_fuzzy-0.4.2-cp36-none-any.whl size=894070 sha256=c3bbb8d0f743ad6704068eae896c3847b29d2e98ff3e664af985295048f3fe0f\n",
            "  Stored in directory: /root/.cache/pip/wheels/b9/4e/77/da79b16f64ef1738d95486e2731eea09d73e90a72465096600\n",
            "Successfully built scikit-fuzzy\n",
            "Installing collected packages: scikit-fuzzy\n",
            "Successfully installed scikit-fuzzy-0.4.2\n"
          ],
          "name": "stdout"
        }
      ]
    },
    {
      "cell_type": "code",
      "metadata": {
        "id": "WvlyfkkwsN3s"
      },
      "source": [
        "from datetime import timedelta, date\n",
        "from operator import itemgetter\n",
        "from itertools import groupby\n",
        "\n",
        "import tensorflow as tf\n",
        "import numpy as np\n",
        "import pandas as pd\n",
        "import matplotlib.pyplot as plt\n",
        "import datetime\n",
        "import pprint\n",
        "import os\n",
        "\n",
        "import skfuzzy as fuzz\n",
        "from skfuzzy import control as ctrl\n",
        "from fuzzy_rules import extract_rules,config_input_variable,config_output_variable,define_input_variables,define_output_variables,read_dataset\n",
        "\n",
        "from sklearn.metrics import mean_squared_error,accuracy_score\n",
        "from sklearn.model_selection import train_test_split"
      ],
      "execution_count": 2,
      "outputs": []
    },
    {
      "cell_type": "markdown",
      "metadata": {
        "id": "cUtsqsKZsN30"
      },
      "source": [
        "# Read data with format (tab separator): "
      ]
    },
    {
      "cell_type": "code",
      "metadata": {
        "id": "LZp_39c0sN30",
        "outputId": "52c81488-8d33-41b1-e32c-9ef3b8bf0e81",
        "colab": {
          "base_uri": "https://localhost:8080/",
          "height": 108
        }
      },
      "source": [
        "cat Dolar.txt | head -5 "
      ],
      "execution_count": 3,
      "outputs": [
        {
          "output_type": "stream",
          "text": [
            "2,34\r\n",
            "2,331\r\n",
            "2,291\r\n",
            "2,288\r\n",
            "2,282\r\n"
          ],
          "name": "stdout"
        }
      ]
    },
    {
      "cell_type": "code",
      "metadata": {
        "id": "pYaNwTLnsN33",
        "outputId": "7bfa6a67-4c2d-4c56-a7c9-8b684408a61d",
        "colab": {
          "base_uri": "https://localhost:8080/",
          "height": 368
        }
      },
      "source": [
        "file_path='Dolar.txt'\n",
        "data = read_dataset(file_path)\n",
        "plt.figure(figsize=(20,5))\n",
        "plt.title('Series Data: {}'.format(file_path))\n",
        "plt.plot(data)\n",
        "plt.grid()\n",
        "plt.xlabel('steps')\n",
        "plt.ylabel('value')"
      ],
      "execution_count": 4,
      "outputs": [
        {
          "output_type": "execute_result",
          "data": {
            "text/plain": [
              "Text(0, 0.5, 'value')"
            ]
          },
          "metadata": {
            "tags": []
          },
          "execution_count": 4
        },
        {
          "output_type": "display_data",
          "data": {
            "image/png": "[encoded data removed]",
            "text/plain": [
              "<Figure size 1440x360 with 1 Axes>"
            ]
          },
          "metadata": {
            "tags": [],
            "needs_background": "light"
          }
        }
      ]
    },
    {
      "cell_type": "markdown",
      "metadata": {
        "id": "6jHXle0VzLHp"
      },
      "source": [
        "# Preprocessing Data"
      ]
    },
    {
      "cell_type": "code",
      "metadata": {
        "id": "jdw892IysN37",
        "outputId": "e21f6bb6-e449-4e27-a092-c060da7ba01d",
        "colab": {
          "base_uri": "https://localhost:8080/",
          "height": 126
        }
      },
      "source": [
        "steps_forward=1\n",
        "windows_size=7\n",
        "dataset = tf.data.Dataset.from_tensor_slices(data)\n",
        "dataset = dataset.window(windows_size + steps_forward, shift=1, drop_remainder=True)\n",
        "dataset = np.stack([list(window_dataset) for window_dataset in dataset], axis=0)\n",
        "X,y_true = dataset[:,:-steps_forward,0],dataset[:,-steps_forward:][:,-1,:]\n",
        "X_train, X_test, y_train, y_test = train_test_split(X, y_true, test_size=0.20, shuffle=False)\n",
        "\n",
        "print('-'*21+'\\nDataset Distribution\\n'+'-'*21)\n",
        "print('X\\t:{} | y_true\\t:{}'.format(X.shape,y_true.shape))\n",
        "print('X_train\\t:{} | y_train\\t:{}'.format(X_train.shape,y_train.shape))\n",
        "print('X_test\\t:{}  | y_test\\t:{}'.format(X_test.shape,y_test.shape))"
      ],
      "execution_count": 5,
      "outputs": [
        {
          "output_type": "stream",
          "text": [
            "---------------------\n",
            "Dataset Distribution\n",
            "---------------------\n",
            "X\t:(265, 7) | y_true\t:(265, 1)\n",
            "X_train\t:(212, 7) | y_train\t:(212, 1)\n",
            "X_test\t:(53, 7)  | y_test\t:(53, 1)\n"
          ],
          "name": "stdout"
        }
      ]
    },
    {
      "cell_type": "markdown",
      "metadata": {
        "id": "Siw_cKkvbnxu"
      },
      "source": [
        "# Configuration\n",
        "\n",
        "## Variable Parameters\n",
        "- nb_inputs: Number of input variable\n",
        "- nb_outputs: Number of output variables\n",
        "- nb_sets: Number of fuzzy set by variable\n",
        "- min : list of min value for each variables\n",
        "- max : list of max value for each variables\n",
        "- shoulder : The first and last set are trapezoidal function\n",
        "\n",
        "## Fuzzy System Parameters\n",
        "- defuzzify_method: Controls which defuzzification method will be used. \n",
        "    - 'centroid': Centroid of area \n",
        "    - 'bisector': bisector of area \n",
        "    - 'mom' : mean of maximum \n",
        "    - 'som' : min of maximum \n",
        "    - 'lom' : max of maximum\n",
        "- aggregation_opt: mathematic function for OR and AND operation\n",
        "\n",
        "## Fuzzy Rules Parameters\n",
        "- intersection_op: operator to calculate Dr value for each candidate rule\n",
        "\n",
        "## Other Parameters (optional)\n",
        "- resolution: number of points in discret domain for each I/O variable.\n",
        "- epsilon: gap for min value (min - epsilon) and max value (max + epsilon)"
      ]
    },
    {
      "cell_type": "code",
      "metadata": {
        "id": "f_BlQ3mYsN4B",
        "outputId": "489a354b-abaa-439b-c5cb-5dc6eb932943",
        "colab": {
          "base_uri": "https://localhost:8080/",
          "height": 254
        }
      },
      "source": [
        "x_min_value = X.min(axis=0)\n",
        "x_max_value = X.max(axis=0)\n",
        "y_min_value = y_true.min(axis=0)\n",
        "y_max_value = y_true.max(axis=0)\n",
        "\n",
        "nb_inputs = X_train.shape[-1]\n",
        "nb_outputs = y_train.shape[-1]\n",
        "\n",
        "aggregation_opt={\n",
        "'and_func':np.fmin,\n",
        "'or_func': np.fmax\n",
        "}\n",
        "\n",
        "config = {\n",
        "    \n",
        "# Variable Parameters\n",
        "'nb_inputs' : nb_inputs,\n",
        "'nb_outputs': nb_outputs,\n",
        "'nb_sets':[[6]*nb_inputs, [7]*nb_outputs],\n",
        "'min':[x_min_value,y_min_value],\n",
        "'max':[x_max_value,y_max_value],\n",
        "'shoulder':True,\n",
        "\n",
        "# Fuzzy System Parameters\n",
        "'defuzzify_method':'centroid',\n",
        "'aggregation_opt': aggregation_opt,\n",
        "\n",
        "# Fuzzy Rules Parameters\n",
        "'intersection_op': np.prod,\n",
        "\n",
        "#Other Parametres\n",
        "'resolution':1000,\n",
        "'epsilon':0.0001\n",
        "}\n",
        "\n",
        "pp = pprint.PrettyPrinter(depth=6)\n",
        "pp.pprint(config)\n",
        "pp.pprint(aggregation_opt)"
      ],
      "execution_count": 18,
      "outputs": [
        {
          "output_type": "stream",
          "text": [
            "{'aggregation_opt': {'and_func': <ufunc 'fmin'>, 'or_func': <ufunc 'fmax'>},\n",
            " 'defuzzify_method': 'centroid',\n",
            " 'epsilon': 0.0001,\n",
            " 'intersection_op': <function prod at 0x7f258e917048>,\n",
            " 'max': [array([2.4, 2.4, 2.4, 2.4, 2.4, 2.4, 2.4]), array([2.4])],\n",
            " 'min': [array([2.056, 2.056, 2.056, 2.056, 2.056, 2.056, 2.056]),\n",
            "         array([2.056])],\n",
            " 'nb_inputs': 7,\n",
            " 'nb_outputs': 1,\n",
            " 'nb_sets': [[6, 6, 6, 6, 6, 6, 6], [7]],\n",
            " 'resolution': 1000,\n",
            " 'shoulder': True}\n",
            "{'and_func': <ufunc 'fmin'>, 'or_func': <ufunc 'fmax'>}\n"
          ],
          "name": "stdout"
        }
      ]
    },
    {
      "cell_type": "code",
      "metadata": {
        "scrolled": true,
        "id": "llTP4E34sN4H",
        "outputId": "b94126a0-5b21-41ec-fff7-0588e8e3bf21",
        "colab": {
          "base_uri": "https://localhost:8080/",
          "height": 54
        }
      },
      "source": [
        "antecedents = define_input_variables(config, shoulder=config['shoulder'])\n",
        "consequents = define_output_variables(config, shoulder=config['shoulder'], defuzzify_method=config['defuzzify_method'])\n",
        "print(antecedents)\n",
        "print(consequents)"
      ],
      "execution_count": 19,
      "outputs": [
        {
          "output_type": "stream",
          "text": [
            "[Antecedent: I_1, Antecedent: I_2, Antecedent: I_3, Antecedent: I_4, Antecedent: I_5, Antecedent: I_6, Antecedent: I_7]\n",
            "[Consequent: O_1]\n"
          ],
          "name": "stdout"
        }
      ]
    },
    {
      "cell_type": "code",
      "metadata": {
        "id": "Z1hLkMeUsN4M",
        "outputId": "ab85f7a5-5e9a-4448-a51b-ce1dc0cb6d52",
        "colab": {
          "base_uri": "https://localhost:8080/",
          "height": 282
        }
      },
      "source": [
        "antecedents[0].view()"
      ],
      "execution_count": 22,
      "outputs": [
        {
          "output_type": "display_data",
          "data": {
            "image/png": "[encoded data removed]",
            "text/plain": [
              "<Figure size 432x288 with 1 Axes>"
            ]
          },
          "metadata": {
            "tags": [],
            "needs_background": "light"
          }
        }
      ]
    },
    {
      "cell_type": "code",
      "metadata": {
        "id": "mitOVoPjsN4R",
        "outputId": "5b328279-96b5-49c3-80da-dd830c565d40",
        "colab": {
          "base_uri": "https://localhost:8080/",
          "height": 35
        }
      },
      "source": [
        "rules,df_rules = extract_rules(config, antecedents, consequents, X_train, y_train)\n",
        "print('number of rules:', len(df_rules))"
      ],
      "execution_count": 23,
      "outputs": [
        {
          "output_type": "stream",
          "text": [
            "number of rules: 124\n"
          ],
          "name": "stdout"
        }
      ]
    },
    {
      "cell_type": "code",
      "metadata": {
        "id": "NB0NajAUsN4X",
        "outputId": "734db0c8-1d55-4c08-812e-fcc62b291945",
        "colab": {
          "base_uri": "https://localhost:8080/",
          "height": 348
        }
      },
      "source": [
        "df_rules.head(10)"
      ],
      "execution_count": 24,
      "outputs": [
        {
          "output_type": "execute_result",
          "data": {
            "text/html": [
              "<div>\n",
              "<style scoped>\n",
              "    .dataframe tbody tr th:only-of-type {\n",
              "        vertical-align: middle;\n",
              "    }\n",
              "\n",
              "    .dataframe tbody tr th {\n",
              "        vertical-align: top;\n",
              "    }\n",
              "\n",
              "    .dataframe thead th {\n",
              "        text-align: right;\n",
              "    }\n",
              "</style>\n",
              "<table border=\"1\" class=\"dataframe\">\n",
              "  <thead>\n",
              "    <tr style=\"text-align: right;\">\n",
              "      <th></th>\n",
              "      <th>I_1</th>\n",
              "      <th>I_2</th>\n",
              "      <th>I_3</th>\n",
              "      <th>I_4</th>\n",
              "      <th>I_5</th>\n",
              "      <th>I_6</th>\n",
              "      <th>I_7</th>\n",
              "      <th>O_1</th>\n",
              "      <th>Dr</th>\n",
              "    </tr>\n",
              "  </thead>\n",
              "  <tbody>\n",
              "    <tr>\n",
              "      <th>0</th>\n",
              "      <td>s_1</td>\n",
              "      <td>s_1</td>\n",
              "      <td>s_1</td>\n",
              "      <td>s_1</td>\n",
              "      <td>s_1</td>\n",
              "      <td>s_1</td>\n",
              "      <td>s_1</td>\n",
              "      <td>s_1</td>\n",
              "      <td>1.000000</td>\n",
              "    </tr>\n",
              "    <tr>\n",
              "      <th>1</th>\n",
              "      <td>s_1</td>\n",
              "      <td>s_1</td>\n",
              "      <td>s_1</td>\n",
              "      <td>s_1</td>\n",
              "      <td>s_1</td>\n",
              "      <td>s_1</td>\n",
              "      <td>s_2</td>\n",
              "      <td>s_3</td>\n",
              "      <td>0.809098</td>\n",
              "    </tr>\n",
              "    <tr>\n",
              "      <th>2</th>\n",
              "      <td>s_1</td>\n",
              "      <td>s_1</td>\n",
              "      <td>s_1</td>\n",
              "      <td>s_1</td>\n",
              "      <td>s_1</td>\n",
              "      <td>s_2</td>\n",
              "      <td>s_2</td>\n",
              "      <td>s_2</td>\n",
              "      <td>0.060240</td>\n",
              "    </tr>\n",
              "    <tr>\n",
              "      <th>3</th>\n",
              "      <td>s_1</td>\n",
              "      <td>s_1</td>\n",
              "      <td>s_1</td>\n",
              "      <td>s_1</td>\n",
              "      <td>s_1</td>\n",
              "      <td>s_2</td>\n",
              "      <td>s_3</td>\n",
              "      <td>s_2</td>\n",
              "      <td>0.425882</td>\n",
              "    </tr>\n",
              "    <tr>\n",
              "      <th>4</th>\n",
              "      <td>s_1</td>\n",
              "      <td>s_1</td>\n",
              "      <td>s_1</td>\n",
              "      <td>s_1</td>\n",
              "      <td>s_2</td>\n",
              "      <td>s_2</td>\n",
              "      <td>s_2</td>\n",
              "      <td>s_2</td>\n",
              "      <td>0.055773</td>\n",
              "    </tr>\n",
              "    <tr>\n",
              "      <th>5</th>\n",
              "      <td>s_1</td>\n",
              "      <td>s_1</td>\n",
              "      <td>s_1</td>\n",
              "      <td>s_1</td>\n",
              "      <td>s_2</td>\n",
              "      <td>s_3</td>\n",
              "      <td>s_2</td>\n",
              "      <td>s_3</td>\n",
              "      <td>0.172452</td>\n",
              "    </tr>\n",
              "    <tr>\n",
              "      <th>6</th>\n",
              "      <td>s_1</td>\n",
              "      <td>s_1</td>\n",
              "      <td>s_1</td>\n",
              "      <td>s_2</td>\n",
              "      <td>s_2</td>\n",
              "      <td>s_2</td>\n",
              "      <td>s_2</td>\n",
              "      <td>s_2</td>\n",
              "      <td>0.108214</td>\n",
              "    </tr>\n",
              "    <tr>\n",
              "      <th>7</th>\n",
              "      <td>s_1</td>\n",
              "      <td>s_1</td>\n",
              "      <td>s_1</td>\n",
              "      <td>s_2</td>\n",
              "      <td>s_3</td>\n",
              "      <td>s_2</td>\n",
              "      <td>s_3</td>\n",
              "      <td>s_3</td>\n",
              "      <td>0.234652</td>\n",
              "    </tr>\n",
              "    <tr>\n",
              "      <th>8</th>\n",
              "      <td>s_1</td>\n",
              "      <td>s_1</td>\n",
              "      <td>s_2</td>\n",
              "      <td>s_2</td>\n",
              "      <td>s_2</td>\n",
              "      <td>s_2</td>\n",
              "      <td>s_1</td>\n",
              "      <td>s_1</td>\n",
              "      <td>0.039793</td>\n",
              "    </tr>\n",
              "    <tr>\n",
              "      <th>9</th>\n",
              "      <td>s_1</td>\n",
              "      <td>s_1</td>\n",
              "      <td>s_2</td>\n",
              "      <td>s_2</td>\n",
              "      <td>s_2</td>\n",
              "      <td>s_2</td>\n",
              "      <td>s_2</td>\n",
              "      <td>s_3</td>\n",
              "      <td>0.154009</td>\n",
              "    </tr>\n",
              "  </tbody>\n",
              "</table>\n",
              "</div>"
            ],
            "text/plain": [
              "   I_1  I_2  I_3  I_4  I_5  I_6  I_7  O_1        Dr\n",
              "0  s_1  s_1  s_1  s_1  s_1  s_1  s_1  s_1  1.000000\n",
              "1  s_1  s_1  s_1  s_1  s_1  s_1  s_2  s_3  0.809098\n",
              "2  s_1  s_1  s_1  s_1  s_1  s_2  s_2  s_2  0.060240\n",
              "3  s_1  s_1  s_1  s_1  s_1  s_2  s_3  s_2  0.425882\n",
              "4  s_1  s_1  s_1  s_1  s_2  s_2  s_2  s_2  0.055773\n",
              "5  s_1  s_1  s_1  s_1  s_2  s_3  s_2  s_3  0.172452\n",
              "6  s_1  s_1  s_1  s_2  s_2  s_2  s_2  s_2  0.108214\n",
              "7  s_1  s_1  s_1  s_2  s_3  s_2  s_3  s_3  0.234652\n",
              "8  s_1  s_1  s_2  s_2  s_2  s_2  s_1  s_1  0.039793\n",
              "9  s_1  s_1  s_2  s_2  s_2  s_2  s_2  s_3  0.154009"
            ]
          },
          "metadata": {
            "tags": []
          },
          "execution_count": 24
        }
      ]
    },
    {
      "cell_type": "code",
      "metadata": {
        "id": "Vv2SvhnusN4c",
        "outputId": "5a47357d-56f9-488e-c876-947cc993cbcb",
        "colab": {
          "base_uri": "https://localhost:8080/",
          "height": 54
        }
      },
      "source": [
        "%time system = ctrl.ControlSystem(rules)"
      ],
      "execution_count": 25,
      "outputs": [
        {
          "output_type": "stream",
          "text": [
            "CPU times: user 14.6 s, sys: 10.6 ms, total: 14.6 s\n",
            "Wall time: 14.6 s\n"
          ],
          "name": "stdout"
        }
      ]
    },
    {
      "cell_type": "code",
      "metadata": {
        "id": "J6s3VZ0osN4g",
        "outputId": "d34745b2-a90a-423c-82d4-6b4315be5d73",
        "colab": {
          "base_uri": "https://localhost:8080/",
          "height": 54
        }
      },
      "source": [
        "%time sim = ctrl.ControlSystemSimulation(system)"
      ],
      "execution_count": 26,
      "outputs": [
        {
          "output_type": "stream",
          "text": [
            "CPU times: user 186 µs, sys: 0 ns, total: 186 µs\n",
            "Wall time: 192 µs\n"
          ],
          "name": "stdout"
        }
      ]
    },
    {
      "cell_type": "code",
      "metadata": {
        "id": "hrs-qI1lsN4j"
      },
      "source": [
        "def evaluate_model(sim, x_data, y_data, return_results=False):\n",
        "  y_prev = []\n",
        "  for x in x_data:\n",
        "      for i,x_i in enumerate(x,1):\n",
        "          sim.input['I_{}'.format(i)]=x_i\n",
        "      sim.compute()\n",
        "      result = sim.output['O_1']\n",
        "      y_prev.append(result)\n",
        "      \n",
        "  mse = mean_squared_error(y_data, y_prev)\n",
        "  \n",
        "  print('mean_squared_error: {}'.format(mse))\n",
        "\n",
        "  plt.figure(figsize=(15,5))\n",
        "  plt.plot(y_data,'*')\n",
        "  plt.plot(y_prev,'s')\n",
        "  plt.show()\n",
        "\n",
        "  y_data, y_prev = np.squeeze(np.array(y_data)), np.array(y_prev)\n",
        "  table_results = pd.DataFrame()\n",
        "  table_results['Real']=y_data\n",
        "  table_results['Predicted']=y_prev\n",
        "  table_results['Diference']=np.abs(y_data - y_prev) \n",
        "  table_results['Diference (%)']=np.abs((y_data - y_prev) / y_data)\n",
        "  if return_results:\n",
        "    return table_results"
      ],
      "execution_count": 27,
      "outputs": []
    },
    {
      "cell_type": "code",
      "metadata": {
        "id": "3opHsn1wsR_6",
        "outputId": "d29704de-c067-4e17-9c0c-e36f5a8209da",
        "colab": {
          "base_uri": "https://localhost:8080/",
          "height": 338
        }
      },
      "source": [
        "results=evaluate_model(sim, X, y_true, return_results=True)"
      ],
      "execution_count": 28,
      "outputs": [
        {
          "output_type": "stream",
          "text": [
            "mean_squared_error: 0.0004091971341055328\n"
          ],
          "name": "stdout"
        },
        {
          "output_type": "display_data",
          "data": {
            "image/png": "[encoded data removed]",
            "text/plain": [
              "<Figure size 1080x360 with 1 Axes>"
            ]
          },
          "metadata": {
            "tags": [],
            "needs_background": "light"
          }
        }
      ]
    },
    {
      "cell_type": "code",
      "metadata": {
        "id": "x3KrazqstAAw",
        "outputId": "4b39917e-1145-49c8-c20b-bb809a4d3449",
        "colab": {
          "base_uri": "https://localhost:8080/",
          "height": 198
        }
      },
      "source": [
        "results.head()"
      ],
      "execution_count": 29,
      "outputs": [
        {
          "output_type": "execute_result",
          "data": {
            "text/html": [
              "<div>\n",
              "<style scoped>\n",
              "    .dataframe tbody tr th:only-of-type {\n",
              "        vertical-align: middle;\n",
              "    }\n",
              "\n",
              "    .dataframe tbody tr th {\n",
              "        vertical-align: top;\n",
              "    }\n",
              "\n",
              "    .dataframe thead th {\n",
              "        text-align: right;\n",
              "    }\n",
              "</style>\n",
              "<table border=\"1\" class=\"dataframe\">\n",
              "  <thead>\n",
              "    <tr style=\"text-align: right;\">\n",
              "      <th></th>\n",
              "      <th>Real</th>\n",
              "      <th>Predicted</th>\n",
              "      <th>Diference</th>\n",
              "      <th>Diference (%)</th>\n",
              "    </tr>\n",
              "  </thead>\n",
              "  <tbody>\n",
              "    <tr>\n",
              "      <th>0</th>\n",
              "      <td>2.284</td>\n",
              "      <td>2.258472</td>\n",
              "      <td>0.025528</td>\n",
              "      <td>0.011177</td>\n",
              "    </tr>\n",
              "    <tr>\n",
              "      <th>1</th>\n",
              "      <td>2.265</td>\n",
              "      <td>2.265789</td>\n",
              "      <td>0.000789</td>\n",
              "      <td>0.000348</td>\n",
              "    </tr>\n",
              "    <tr>\n",
              "      <th>2</th>\n",
              "      <td>2.276</td>\n",
              "      <td>2.265800</td>\n",
              "      <td>0.010200</td>\n",
              "      <td>0.004482</td>\n",
              "    </tr>\n",
              "    <tr>\n",
              "      <th>3</th>\n",
              "      <td>2.274</td>\n",
              "      <td>2.275853</td>\n",
              "      <td>0.001853</td>\n",
              "      <td>0.000815</td>\n",
              "    </tr>\n",
              "    <tr>\n",
              "      <th>4</th>\n",
              "      <td>2.312</td>\n",
              "      <td>2.280675</td>\n",
              "      <td>0.031325</td>\n",
              "      <td>0.013549</td>\n",
              "    </tr>\n",
              "  </tbody>\n",
              "</table>\n",
              "</div>"
            ],
            "text/plain": [
              "    Real  Predicted  Diference  Diference (%)\n",
              "0  2.284   2.258472   0.025528       0.011177\n",
              "1  2.265   2.265789   0.000789       0.000348\n",
              "2  2.276   2.265800   0.010200       0.004482\n",
              "3  2.274   2.275853   0.001853       0.000815\n",
              "4  2.312   2.280675   0.031325       0.013549"
            ]
          },
          "metadata": {
            "tags": []
          },
          "execution_count": 29
        }
      ]
    },
    {
      "cell_type": "code",
      "metadata": {
        "id": "IKE7v1iisTk4",
        "outputId": "9d9272d1-012b-45c7-f31c-9a6f16b09a52",
        "colab": {
          "base_uri": "https://localhost:8080/",
          "height": 338
        }
      },
      "source": [
        "evaluate_model(sim, X_train, y_train)"
      ],
      "execution_count": 30,
      "outputs": [
        {
          "output_type": "stream",
          "text": [
            "mean_squared_error: 0.00042587892011261655\n"
          ],
          "name": "stdout"
        },
        {
          "output_type": "display_data",
          "data": {
            "image/png": "[encoded data removed]",
            "text/plain": [
              "<Figure size 1080x360 with 1 Axes>"
            ]
          },
          "metadata": {
            "tags": [],
            "needs_background": "light"
          }
        }
      ]
    },
    {
      "cell_type": "code",
      "metadata": {
        "id": "zoJDN89Q4JDo",
        "outputId": "fa59db74-b3cc-4578-ff98-b97720d67ee6",
        "colab": {
          "base_uri": "https://localhost:8080/",
          "height": 338
        }
      },
      "source": [
        "evaluate_model(sim, X_test, y_test)"
      ],
      "execution_count": 31,
      "outputs": [
        {
          "output_type": "stream",
          "text": [
            "mean_squared_error: 0.00034246999007719767\n"
          ],
          "name": "stdout"
        },
        {
          "output_type": "display_data",
          "data": {
            "image/png": "[encoded data removed]",
            "text/plain": [
              "<Figure size 1080x360 with 1 Axes>"
            ]
          },
          "metadata": {
            "tags": [],
            "needs_background": "light"
          }
        }
      ]
    }
  ]
}