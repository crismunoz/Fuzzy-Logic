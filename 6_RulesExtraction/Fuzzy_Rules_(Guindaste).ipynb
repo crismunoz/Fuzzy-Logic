{
  "nbformat": 4,
  "nbformat_minor": 0,
  "metadata": {
    "colab": {
      "name": "Fuzzy Rules (Guindaste).ipynb",
      "provenance": [],
      "collapsed_sections": [],
      "include_colab_link": true
    },
    "kernelspec": {
      "display_name": "RelationExtraction",
      "language": "python",
      "name": "relationextraction"
    },
    "language_info": {
      "codemirror_mode": {
        "name": "ipython",
        "version": 3
      },
      "file_extension": ".py",
      "mimetype": "text/x-python",
      "name": "python",
      "nbconvert_exporter": "python",
      "pygments_lexer": "ipython3",
      "version": "3.7.9"
    }
  },
  "cells": [
    {
      "cell_type": "markdown",
      "metadata": {
        "id": "view-in-github",
        "colab_type": "text"
      },
      "source": [
        "<a href=\"https://colab.research.google.com/github/crismunoz/Fuzzy-Logic/blob/master/6_RulesExtraction/Fuzzy_Rules_(Guindaste).ipynb\" target=\"_parent\"><img src=\"https://colab.research.google.com/assets/colab-badge.svg\" alt=\"Open In Colab\"/></a>"
      ]
    },
    {
      "cell_type": "markdown",
      "metadata": {
        "id": "AZMQIi_M2HRl"
      },
      "source": [
        "Author: Cristian Muñoz Villalobos"
      ]
    },
    {
      "cell_type": "code",
      "metadata": {
        "id": "cWQnp-VK2Pfc",
        "outputId": "4032e7ef-3e55-401d-a36a-b8dd22525073",
        "colab": {
          "base_uri": "https://localhost:8080/",
          "height": 672
        }
      },
      "source": [
        "!wget https://raw.githubusercontent.com/crismunoz/Fuzzy-Logic/master/6_RulesExtraction/guindaste.txt\n",
        "!wget https://raw.githubusercontent.com/crismunoz/Fuzzy-Logic/master/6_RulesExtraction/fuzzy_rules.py\n",
        "!pip install scikit-fuzzy"
      ],
      "execution_count": 1,
      "outputs": [
        {
          "output_type": "stream",
          "text": [
            "--2020-10-22 19:47:41--  https://raw.githubusercontent.com/crismunoz/Fuzzy-Logic/master/6_RulesExtraction/guindaste.txt\n",
            "Resolving raw.githubusercontent.com (raw.githubusercontent.com)... 151.101.0.133, 151.101.64.133, 151.101.128.133, ...\n",
            "Connecting to raw.githubusercontent.com (raw.githubusercontent.com)|151.101.0.133|:443... connected.\n",
            "HTTP request sent, awaiting response... 200 OK\n",
            "Length: 666 [text/plain]\n",
            "Saving to: ‘guindaste.txt’\n",
            "\n",
            "guindaste.txt       100%[===================>]     666  --.-KB/s    in 0s      \n",
            "\n",
            "2020-10-22 19:47:42 (34.2 MB/s) - ‘guindaste.txt’ saved [666/666]\n",
            "\n",
            "--2020-10-22 19:47:42--  https://raw.githubusercontent.com/crismunoz/Fuzzy-Logic/master/6_RulesExtraction/fuzzy_rules.py\n",
            "Resolving raw.githubusercontent.com (raw.githubusercontent.com)... 151.101.0.133, 151.101.64.133, 151.101.128.133, ...\n",
            "Connecting to raw.githubusercontent.com (raw.githubusercontent.com)|151.101.0.133|:443... connected.\n",
            "HTTP request sent, awaiting response... 200 OK\n",
            "Length: 4792 (4.7K) [text/plain]\n",
            "Saving to: ‘fuzzy_rules.py’\n",
            "\n",
            "fuzzy_rules.py      100%[===================>]   4.68K  --.-KB/s    in 0s      \n",
            "\n",
            "2020-10-22 19:47:42 (56.8 MB/s) - ‘fuzzy_rules.py’ saved [4792/4792]\n",
            "\n",
            "Collecting scikit-fuzzy\n",
            "\u001b[?25l  Downloading https://files.pythonhosted.org/packages/6c/f0/5eb5dbe0fd8dfe7d4651a8f4e591a196623a22b9e5339101e559695b4f6c/scikit-fuzzy-0.4.2.tar.gz (993kB)\n",
            "\u001b[K     |████████████████████████████████| 1.0MB 4.4MB/s \n",
            "\u001b[?25hRequirement already satisfied: numpy>=1.6.0 in /usr/local/lib/python3.6/dist-packages (from scikit-fuzzy) (1.18.5)\n",
            "Requirement already satisfied: scipy>=0.9.0 in /usr/local/lib/python3.6/dist-packages (from scikit-fuzzy) (1.4.1)\n",
            "Requirement already satisfied: networkx>=1.9.0 in /usr/local/lib/python3.6/dist-packages (from scikit-fuzzy) (2.5)\n",
            "Requirement already satisfied: decorator>=4.3.0 in /usr/local/lib/python3.6/dist-packages (from networkx>=1.9.0->scikit-fuzzy) (4.4.2)\n",
            "Building wheels for collected packages: scikit-fuzzy\n",
            "  Building wheel for scikit-fuzzy (setup.py) ... \u001b[?25l\u001b[?25hdone\n",
            "  Created wheel for scikit-fuzzy: filename=scikit_fuzzy-0.4.2-cp36-none-any.whl size=894070 sha256=b84807d37e8a12a67a963957d318f924a4abca72777f3736f9d7c9e3bca2c3f3\n",
            "  Stored in directory: /root/.cache/pip/wheels/b9/4e/77/da79b16f64ef1738d95486e2731eea09d73e90a72465096600\n",
            "Successfully built scikit-fuzzy\n",
            "Installing collected packages: scikit-fuzzy\n",
            "Successfully installed scikit-fuzzy-0.4.2\n"
          ],
          "name": "stdout"
        }
      ]
    },
    {
      "cell_type": "code",
      "metadata": {
        "id": "4RxVVnra2HRm"
      },
      "source": [
        "import matplotlib.pyplot as plt\n",
        "import tensorflow as tf\n",
        "import skfuzzy as fuzz\n",
        "import pandas as pd\n",
        "import numpy as np\n",
        "import datetime\n",
        "import pprint\n",
        "import os\n",
        "\n",
        "from operator import itemgetter\n",
        "from itertools import groupby\n",
        "from datetime import timedelta, date\n",
        "\n",
        "from skfuzzy import control as ctrl\n",
        "from fuzzy_rules import extract_rules,config_input_variable,config_output_variable,define_input_variables,define_output_variables,read_dataset\n",
        "from sklearn.metrics import mean_squared_error,accuracy_score\n",
        "from sklearn.model_selection import train_test_split"
      ],
      "execution_count": 1,
      "outputs": []
    },
    {
      "cell_type": "markdown",
      "metadata": {
        "id": "gkZetB6V2HRq"
      },
      "source": [
        "Read data with format (tab separator): "
      ]
    },
    {
      "cell_type": "code",
      "metadata": {
        "id": "RJb1ulx62HRr",
        "outputId": "db2d1da7-9505-407f-d1f3-87c1c4b19873",
        "colab": {
          "base_uri": "https://localhost:8080/",
          "height": 108
        }
      },
      "source": [
        "cat guindaste.txt | head -5 "
      ],
      "execution_count": 2,
      "outputs": [
        {
          "output_type": "stream",
          "text": [
            "0,0\t30,0\t9,96\r\n",
            "-3\t21,43\t12,75\r\n",
            "-4\t21,23\t14,14\r\n",
            "-5\t21,02\t15,54\r\n",
            "-7\t20,75\t16,93\r\n"
          ],
          "name": "stdout"
        }
      ]
    },
    {
      "cell_type": "code",
      "metadata": {
        "id": "_MckLF4B2HRu",
        "outputId": "dab04b18-a90a-44fa-f068-28be620a823b",
        "colab": {
          "base_uri": "https://localhost:8080/",
          "height": 368
        }
      },
      "source": [
        "file_path='guindaste.txt'\n",
        "data = read_dataset(file_path)\n",
        "plt.figure(figsize=(20,5))\n",
        "plt.title('Data: {}'.format(file_path))\n",
        "plt.plot(data)\n",
        "plt.grid()\n",
        "plt.legend(['Var1','Var2','Var3'])\n",
        "plt.xlabel('steps')\n",
        "plt.ylabel('value')"
      ],
      "execution_count": 3,
      "outputs": [
        {
          "output_type": "execute_result",
          "data": {
            "text/plain": [
              "Text(0, 0.5, 'value')"
            ]
          },
          "metadata": {
            "tags": []
          },
          "execution_count": 3
        },
        {
          "output_type": "display_data",
          "data": {
            "image/png": "[encoded data removed]",
            "text/plain": [
              "<Figure size 1440x360 with 1 Axes>"
            ]
          },
          "metadata": {
            "tags": [],
            "needs_background": "light"
          }
        }
      ]
    },
    {
      "cell_type": "code",
      "metadata": {
        "id": "gBuDWbun2HRx",
        "outputId": "72e33e14-b943-487a-a7dd-edaab1c2e1f0",
        "colab": {
          "base_uri": "https://localhost:8080/",
          "height": 126
        }
      },
      "source": [
        "dataset = tf.data.Dataset.from_tensor_slices(data)\n",
        "dataset = np.stack([list(data) for data in dataset], axis=0)\n",
        "X,y_true = dataset[:,:2],dataset[:,2:]\n",
        "X_train, X_test, y_train, y_test = train_test_split(X, y_true, test_size=0.20, shuffle=False)\n",
        "\n",
        "print('-'*21+'\\nDataset Distribution\\n'+'-'*21)\n",
        "print('X\\t:{} | y_true\\t:{}'.format(X.shape,y_true.shape))\n",
        "print('X_train\\t:{} | y_train\\t:{}'.format(X_train.shape,y_train.shape))\n",
        "print('X_test\\t:{}  | y_test\\t:{}'.format(X_test.shape,y_test.shape))"
      ],
      "execution_count": 4,
      "outputs": [
        {
          "output_type": "stream",
          "text": [
            "---------------------\n",
            "Dataset Distribution\n",
            "---------------------\n",
            "X\t:(43, 2) | y_true\t:(43, 1)\n",
            "X_train\t:(34, 2) | y_train\t:(34, 1)\n",
            "X_test\t:(9, 2)  | y_test\t:(9, 1)\n"
          ],
          "name": "stdout"
        }
      ]
    },
    {
      "cell_type": "code",
      "metadata": {
        "id": "9bXoYWwL2HR3",
        "outputId": "ab386964-afd8-4296-84a7-2d45c2d536a2",
        "colab": {
          "base_uri": "https://localhost:8080/",
          "height": 235
        }
      },
      "source": [
        "x_min_value = X.min(axis=0)\n",
        "x_max_value = X.max(axis=0)\n",
        "y_min_value = y_true.min(axis=0)\n",
        "y_max_value = y_true.max(axis=0)\n",
        "\n",
        "nb_inputs = X_train.shape[-1]\n",
        "nb_outputs = y_train.shape[-1]\n",
        "\n",
        "aggregation_opt={\n",
        "'and_func':np.fmin,\n",
        "'or_func': np.fmax\n",
        "}\n",
        "\n",
        "config = {\n",
        "\n",
        "# Variable Parameters\n",
        "'nb_inputs' : nb_inputs,\n",
        "'nb_outputs': nb_outputs,\n",
        "'nb_sets'   : [[6]*nb_inputs , [12]*nb_outputs],\n",
        "'min'       : [x_min_value , y_min_value],\n",
        "'max'       : [x_max_value , y_max_value],\n",
        "'shoulder'  : True,\n",
        "\n",
        "# Fuzzy System Parameters\n",
        "'defuzzify_method' : 'centroid',\n",
        "'aggregation_opt'  :  aggregation_opt,\n",
        "\n",
        "# Fuzzy Rules Parameters\n",
        "'intersection_op' : np.prod,\n",
        "\n",
        "#Other Parametres\n",
        "'resolution' : 1000,\n",
        "'epsilon'    : 0.001\n",
        "}\n",
        "\n",
        "pp = pprint.PrettyPrinter(depth=6)\n",
        "pp.pprint(config)\n",
        "pp.pprint(aggregation_opt)"
      ],
      "execution_count": 8,
      "outputs": [
        {
          "output_type": "stream",
          "text": [
            "{'aggregation_opt': {'and_func': <ufunc 'fmin'>, 'or_func': <ufunc 'fmax'>},\n",
            " 'defuzzify_method': 'centroid',\n",
            " 'epsilon': 0.001,\n",
            " 'intersection_op': <function prod at 0x7f70252c4048>,\n",
            " 'max': [array([16., 30.]), array([23.21])],\n",
            " 'min': [array([-44.,   0.]), array([-7.04])],\n",
            " 'nb_inputs': 2,\n",
            " 'nb_outputs': 1,\n",
            " 'nb_sets': [[6, 6], [12]],\n",
            " 'resolution': 1000,\n",
            " 'shoulder': True}\n",
            "{'and_func': <ufunc 'fmin'>, 'or_func': <ufunc 'fmax'>}\n"
          ],
          "name": "stdout"
        }
      ]
    },
    {
      "cell_type": "code",
      "metadata": {
        "scrolled": true,
        "id": "q8MZ-1of2HR6",
        "outputId": "48b881e8-c168-4a0a-c5d6-2f83dd1280ee",
        "colab": {
          "base_uri": "https://localhost:8080/",
          "height": 54
        }
      },
      "source": [
        "antecedents = define_input_variables(config, shoulder=config['shoulder'])\n",
        "consequents = define_output_variables(config, shoulder=config['shoulder'], defuzzify_method=config['defuzzify_method'])\n",
        "print(antecedents)\n",
        "print(consequents)"
      ],
      "execution_count": 9,
      "outputs": [
        {
          "output_type": "stream",
          "text": [
            "[Antecedent: I_1, Antecedent: I_2]\n",
            "[Consequent: O_1]\n"
          ],
          "name": "stdout"
        }
      ]
    },
    {
      "cell_type": "code",
      "metadata": {
        "id": "Ua-yM8Np2HR9",
        "outputId": "183530de-9fa5-429c-8769-c2f1de7f136a",
        "colab": {
          "base_uri": "https://localhost:8080/",
          "height": 282
        }
      },
      "source": [
        "antecedents[0].view()"
      ],
      "execution_count": 11,
      "outputs": [
        {
          "output_type": "display_data",
          "data": {
            "image/png": "[encoded data removed]",
            "text/plain": [
              "<Figure size 432x288 with 1 Axes>"
            ]
          },
          "metadata": {
            "tags": [],
            "needs_background": "light"
          }
        }
      ]
    },
    {
      "cell_type": "code",
      "metadata": {
        "id": "j4PMCFUB2HSA",
        "outputId": "ffb61d7f-f285-4363-dc6c-52edfda1df24",
        "colab": {
          "base_uri": "https://localhost:8080/",
          "height": 35
        }
      },
      "source": [
        "rules,df_rules = extract_rules(config, antecedents, consequents, X_train, y_train)\n",
        "print('number of rules:', len(df_rules))"
      ],
      "execution_count": 12,
      "outputs": [
        {
          "output_type": "stream",
          "text": [
            "number of rules: 17\n"
          ],
          "name": "stdout"
        }
      ]
    },
    {
      "cell_type": "code",
      "metadata": {
        "id": "hFZNjG_K2HSF",
        "outputId": "bb215807-3562-4f69-88b8-094f34a50850",
        "colab": {
          "base_uri": "https://localhost:8080/",
          "height": 348
        }
      },
      "source": [
        "df_rules.head(10)"
      ],
      "execution_count": 13,
      "outputs": [
        {
          "output_type": "execute_result",
          "data": {
            "text/html": [
              "<div>\n",
              "<style scoped>\n",
              "    .dataframe tbody tr th:only-of-type {\n",
              "        vertical-align: middle;\n",
              "    }\n",
              "\n",
              "    .dataframe tbody tr th {\n",
              "        vertical-align: top;\n",
              "    }\n",
              "\n",
              "    .dataframe thead th {\n",
              "        text-align: right;\n",
              "    }\n",
              "</style>\n",
              "<table border=\"1\" class=\"dataframe\">\n",
              "  <thead>\n",
              "    <tr style=\"text-align: right;\">\n",
              "      <th></th>\n",
              "      <th>I_1</th>\n",
              "      <th>I_2</th>\n",
              "      <th>O_1</th>\n",
              "      <th>Dr</th>\n",
              "    </tr>\n",
              "  </thead>\n",
              "  <tbody>\n",
              "    <tr>\n",
              "      <th>0</th>\n",
              "      <td>s_1</td>\n",
              "      <td>s_1</td>\n",
              "      <td>s_7</td>\n",
              "      <td>0.497508</td>\n",
              "    </tr>\n",
              "    <tr>\n",
              "      <th>1</th>\n",
              "      <td>s_1</td>\n",
              "      <td>s_3</td>\n",
              "      <td>s_9</td>\n",
              "      <td>0.908072</td>\n",
              "    </tr>\n",
              "    <tr>\n",
              "      <th>2</th>\n",
              "      <td>s_1</td>\n",
              "      <td>s_4</td>\n",
              "      <td>s_10</td>\n",
              "      <td>0.460311</td>\n",
              "    </tr>\n",
              "    <tr>\n",
              "      <th>3</th>\n",
              "      <td>s_2</td>\n",
              "      <td>s_1</td>\n",
              "      <td>s_7</td>\n",
              "      <td>0.601737</td>\n",
              "    </tr>\n",
              "    <tr>\n",
              "      <th>4</th>\n",
              "      <td>s_2</td>\n",
              "      <td>s_3</td>\n",
              "      <td>s_11</td>\n",
              "      <td>0.709890</td>\n",
              "    </tr>\n",
              "    <tr>\n",
              "      <th>5</th>\n",
              "      <td>s_2</td>\n",
              "      <td>s_4</td>\n",
              "      <td>s_11</td>\n",
              "      <td>0.639872</td>\n",
              "    </tr>\n",
              "    <tr>\n",
              "      <th>6</th>\n",
              "      <td>s_3</td>\n",
              "      <td>s_1</td>\n",
              "      <td>s_7</td>\n",
              "      <td>0.555431</td>\n",
              "    </tr>\n",
              "    <tr>\n",
              "      <th>7</th>\n",
              "      <td>s_3</td>\n",
              "      <td>s_2</td>\n",
              "      <td>s_12</td>\n",
              "      <td>0.761011</td>\n",
              "    </tr>\n",
              "    <tr>\n",
              "      <th>8</th>\n",
              "      <td>s_3</td>\n",
              "      <td>s_3</td>\n",
              "      <td>s_12</td>\n",
              "      <td>0.755391</td>\n",
              "    </tr>\n",
              "    <tr>\n",
              "      <th>9</th>\n",
              "      <td>s_3</td>\n",
              "      <td>s_4</td>\n",
              "      <td>s_12</td>\n",
              "      <td>0.581660</td>\n",
              "    </tr>\n",
              "  </tbody>\n",
              "</table>\n",
              "</div>"
            ],
            "text/plain": [
              "   I_1  I_2   O_1        Dr\n",
              "0  s_1  s_1   s_7  0.497508\n",
              "1  s_1  s_3   s_9  0.908072\n",
              "2  s_1  s_4  s_10  0.460311\n",
              "3  s_2  s_1   s_7  0.601737\n",
              "4  s_2  s_3  s_11  0.709890\n",
              "5  s_2  s_4  s_11  0.639872\n",
              "6  s_3  s_1   s_7  0.555431\n",
              "7  s_3  s_2  s_12  0.761011\n",
              "8  s_3  s_3  s_12  0.755391\n",
              "9  s_3  s_4  s_12  0.581660"
            ]
          },
          "metadata": {
            "tags": []
          },
          "execution_count": 13
        }
      ]
    },
    {
      "cell_type": "code",
      "metadata": {
        "id": "a5xJAbq92HSH",
        "outputId": "5564787d-8ee8-466e-e430-f861c0b8b1e0",
        "colab": {
          "base_uri": "https://localhost:8080/",
          "height": 54
        }
      },
      "source": [
        "%time system = ctrl.ControlSystem(rules)"
      ],
      "execution_count": 14,
      "outputs": [
        {
          "output_type": "stream",
          "text": [
            "CPU times: user 73.1 ms, sys: 1.94 ms, total: 75 ms\n",
            "Wall time: 76.4 ms\n"
          ],
          "name": "stdout"
        }
      ]
    },
    {
      "cell_type": "code",
      "metadata": {
        "id": "BHayxYvJ2HSJ",
        "outputId": "59be3e8c-064c-45ff-e6f3-0de8353ff77d",
        "colab": {
          "base_uri": "https://localhost:8080/",
          "height": 54
        }
      },
      "source": [
        "%time sim = ctrl.ControlSystemSimulation(system)"
      ],
      "execution_count": 15,
      "outputs": [
        {
          "output_type": "stream",
          "text": [
            "CPU times: user 93 µs, sys: 11 µs, total: 104 µs\n",
            "Wall time: 107 µs\n"
          ],
          "name": "stdout"
        }
      ]
    },
    {
      "cell_type": "code",
      "metadata": {
        "id": "OHUwlLTr2HSN"
      },
      "source": [
        "def evaluate_model(sim, x_data, y_data, return_results=False):\n",
        "  y_prev = []\n",
        "  for x in x_data:\n",
        "      for i,x_i in enumerate(x,1):\n",
        "          sim.input['I_{}'.format(i)]=x_i\n",
        "      sim.compute()\n",
        "      result = sim.output['O_1']\n",
        "      y_prev.append(result)\n",
        "      \n",
        "  mse = mean_squared_error(y_data, y_prev)\n",
        "  \n",
        "  print('mean_squared_error: {}'.format(mse))\n",
        "\n",
        "  plt.figure(figsize=(15,5))\n",
        "  plt.plot(y_data,'*')\n",
        "  plt.plot(y_prev,'s')\n",
        "  plt.show()\n",
        "\n",
        "  y_data, y_prev = np.squeeze(np.array(y_data)), np.array(y_prev)\n",
        "  table_results = pd.DataFrame()\n",
        "  table_results['Real']=y_data\n",
        "  table_results['Predicted']=y_prev\n",
        "  table_results['Diference']=np.abs(y_data - y_prev) \n",
        "  table_results['Diference (%)']=np.abs((y_data - y_prev) / y_data)\n",
        "  if return_results:\n",
        "    return table_results"
      ],
      "execution_count": 16,
      "outputs": []
    },
    {
      "cell_type": "code",
      "metadata": {
        "id": "xNyKZ5VT2HSQ",
        "outputId": "2897578f-1686-4647-96df-323739def043",
        "colab": {
          "base_uri": "https://localhost:8080/",
          "height": 356
        }
      },
      "source": [
        "results=evaluate_model(sim, X, y_true, return_results=True)"
      ],
      "execution_count": 17,
      "outputs": [
        {
          "output_type": "stream",
          "text": [
            "mean_squared_error: 3.6991561296242055\n"
          ],
          "name": "stdout"
        },
        {
          "output_type": "display_data",
          "data": {
            "image/png": "[encoded data removed]",
            "text/plain": [
              "<Figure size 1080x360 with 1 Axes>"
            ]
          },
          "metadata": {
            "tags": [],
            "needs_background": "light"
          }
        },
        {
          "output_type": "stream",
          "text": [
            "/usr/local/lib/python3.6/dist-packages/ipykernel_launcher.py:24: RuntimeWarning: divide by zero encountered in true_divide\n"
          ],
          "name": "stderr"
        }
      ]
    },
    {
      "cell_type": "code",
      "metadata": {
        "id": "k4MqwnPL8WJl",
        "outputId": "9b3bdfb5-b453-435e-d2da-fc0586bfe499",
        "colab": {
          "base_uri": "https://localhost:8080/",
          "height": 198
        }
      },
      "source": [
        "results.head()"
      ],
      "execution_count": 18,
      "outputs": [
        {
          "output_type": "execute_result",
          "data": {
            "text/html": [
              "<div>\n",
              "<style scoped>\n",
              "    .dataframe tbody tr th:only-of-type {\n",
              "        vertical-align: middle;\n",
              "    }\n",
              "\n",
              "    .dataframe tbody tr th {\n",
              "        vertical-align: top;\n",
              "    }\n",
              "\n",
              "    .dataframe thead th {\n",
              "        text-align: right;\n",
              "    }\n",
              "</style>\n",
              "<table border=\"1\" class=\"dataframe\">\n",
              "  <thead>\n",
              "    <tr style=\"text-align: right;\">\n",
              "      <th></th>\n",
              "      <th>Real</th>\n",
              "      <th>Predicted</th>\n",
              "      <th>Diference</th>\n",
              "      <th>Diference (%)</th>\n",
              "    </tr>\n",
              "  </thead>\n",
              "  <tbody>\n",
              "    <tr>\n",
              "      <th>0</th>\n",
              "      <td>9.96</td>\n",
              "      <td>9.248560</td>\n",
              "      <td>0.711440</td>\n",
              "      <td>0.071430</td>\n",
              "    </tr>\n",
              "    <tr>\n",
              "      <th>1</th>\n",
              "      <td>12.75</td>\n",
              "      <td>16.021576</td>\n",
              "      <td>3.271576</td>\n",
              "      <td>0.256594</td>\n",
              "    </tr>\n",
              "    <tr>\n",
              "      <th>2</th>\n",
              "      <td>14.14</td>\n",
              "      <td>16.823712</td>\n",
              "      <td>2.683712</td>\n",
              "      <td>0.189796</td>\n",
              "    </tr>\n",
              "    <tr>\n",
              "      <th>3</th>\n",
              "      <td>15.54</td>\n",
              "      <td>17.521649</td>\n",
              "      <td>1.981649</td>\n",
              "      <td>0.127519</td>\n",
              "    </tr>\n",
              "    <tr>\n",
              "      <th>4</th>\n",
              "      <td>16.93</td>\n",
              "      <td>18.902398</td>\n",
              "      <td>1.972398</td>\n",
              "      <td>0.116503</td>\n",
              "    </tr>\n",
              "  </tbody>\n",
              "</table>\n",
              "</div>"
            ],
            "text/plain": [
              "    Real  Predicted  Diference  Diference (%)\n",
              "0   9.96   9.248560   0.711440       0.071430\n",
              "1  12.75  16.021576   3.271576       0.256594\n",
              "2  14.14  16.823712   2.683712       0.189796\n",
              "3  15.54  17.521649   1.981649       0.127519\n",
              "4  16.93  18.902398   1.972398       0.116503"
            ]
          },
          "metadata": {
            "tags": []
          },
          "execution_count": 18
        }
      ]
    },
    {
      "cell_type": "code",
      "metadata": {
        "id": "sH47Icz88Y91",
        "outputId": "b5df7add-be76-415d-a39d-78b9094019f1",
        "colab": {
          "base_uri": "https://localhost:8080/",
          "height": 338
        }
      },
      "source": [
        "evaluate_model(sim, X_train, y_train)"
      ],
      "execution_count": 19,
      "outputs": [
        {
          "output_type": "stream",
          "text": [
            "mean_squared_error: 3.8912387147594036\n"
          ],
          "name": "stdout"
        },
        {
          "output_type": "display_data",
          "data": {
            "image/png": "[encoded data removed]",
            "text/plain": [
              "<Figure size 1080x360 with 1 Axes>"
            ]
          },
          "metadata": {
            "tags": [],
            "needs_background": "light"
          }
        }
      ]
    },
    {
      "cell_type": "code",
      "metadata": {
        "id": "d2wuDdsC8ZeN",
        "outputId": "f60b42f4-6fc0-4864-b4cf-5a8aa214e3e7",
        "colab": {
          "base_uri": "https://localhost:8080/",
          "height": 356
        }
      },
      "source": [
        "evaluate_model(sim, X_test, y_test)"
      ],
      "execution_count": 20,
      "outputs": [
        {
          "output_type": "stream",
          "text": [
            "mean_squared_error: 2.9735108080023402\n"
          ],
          "name": "stdout"
        },
        {
          "output_type": "display_data",
          "data": {
            "image/png": "[encoded data removed]",
            "text/plain": [
              "<Figure size 1080x360 with 1 Axes>"
            ]
          },
          "metadata": {
            "tags": [],
            "needs_background": "light"
          }
        },
        {
          "output_type": "stream",
          "text": [
            "/usr/local/lib/python3.6/dist-packages/ipykernel_launcher.py:24: RuntimeWarning: divide by zero encountered in true_divide\n"
          ],
          "name": "stderr"
        }
      ]
    }
  ]
}