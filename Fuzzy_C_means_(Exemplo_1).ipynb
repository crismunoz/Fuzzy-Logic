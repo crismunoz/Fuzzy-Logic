{
  "nbformat": 4,
  "nbformat_minor": 0,
  "metadata": {
    "colab": {
      "name": "Fuzzy C-means (Exemplo 1).ipynb",
      "provenance": [],
      "collapsed_sections": [],
      "authorship_tag": "ABX9TyOFQ07/8d51Apvq8bF+2ERB",
      "include_colab_link": true
    },
    "kernelspec": {
      "name": "python3",
      "display_name": "Python 3"
    }
  },
  "cells": [
    {
      "cell_type": "markdown",
      "metadata": {
        "id": "view-in-github",
        "colab_type": "text"
      },
      "source": [
        "<a href=\"https://colab.research.google.com/github/crismunoz/Fuzzy-Logic/blob/master/Fuzzy_C_means_(Exemplo_1).ipynb\" target=\"_parent\"><img src=\"https://colab.research.google.com/assets/colab-badge.svg\" alt=\"Open In Colab\"/></a>"
      ]
    },
    {
      "cell_type": "code",
      "metadata": {
        "id": "UosEvemZuK4Z",
        "colab_type": "code",
        "colab": {}
      },
      "source": [
        "!pip install  scikit-fuzzy"
      ],
      "execution_count": null,
      "outputs": []
    },
    {
      "cell_type": "markdown",
      "metadata": {
        "id": "eOylh4-0sG0J",
        "colab_type": "text"
      },
      "source": [
        "# Agrupamento de Fuzzy de Carros\n",
        "\n",
        "Este exemplo apresenta um exemplo simples de agrupamento utilizando os agrupamentos k-means e fuzzy c-means."
      ]
    },
    {
      "cell_type": "code",
      "metadata": {
        "id": "_5koz6kR2bvj",
        "colab_type": "code",
        "colab": {}
      },
      "source": [
        "# Bibliotecas leitura de spreadsheet (gspread)\n",
        "from google.colab import auth\n",
        "auth.authenticate_user()\n",
        "import gspread\n",
        "from oauth2client.client import GoogleCredentials\n",
        "gc = gspread.authorize(GoogleCredentials.get_application_default())\n",
        "\n",
        "# Utilitarios\n",
        "import pandas as pd\n",
        "import skfuzzy as fuzz\n",
        "import matplotlib.pyplot as plt"
      ],
      "execution_count": null,
      "outputs": []
    },
    {
      "cell_type": "code",
      "metadata": {
        "id": "zfkgLs3cxvE0",
        "colab_type": "code",
        "colab": {}
      },
      "source": [
        "# abrir spreadsheet \n",
        "wb = gc.open_by_url('')\n",
        "\n",
        "# seleccionar o worksheet \"data\"\n",
        "sheet = wb.worksheet('data')\n",
        "\n",
        "# pegar todos os valores em uma tabela numpy\n",
        "data = sheet.get_all_values()\n",
        "\n",
        "# Transformar a tabela em dataframe\n",
        "df = pd.DataFrame(data)\n",
        "\n",
        "# Considerar a primeira linha como coluna \n",
        "df.columns = df.iloc[0]\n",
        "df = df.iloc[1:]\n",
        "\n",
        "# Conversão do tipo de dado para cada coluna\n",
        "df = df[['Velocidade Máxima (Km/h)','Peso (Kg)']]\n",
        "df['Velocidade Máxima (Km/h)']=df['Velocidade Máxima (Km/h)'].astype('int32')\n",
        "df['Peso (Kg)']=df['Peso (Kg)'].astype('int32')\n",
        "\n",
        "# Visualização do dataframe\n",
        "df.head()"
      ],
      "execution_count": null,
      "outputs": []
    },
    {
      "cell_type": "code",
      "metadata": {
        "id": "SGFygj4Hzt4F",
        "colab_type": "code",
        "colab": {}
      },
      "source": [
        "# Convertir dados a matrix numpy\n",
        "all_data = df[['Velocidade Máxima (Km/h)','Peso (Kg)']].values\n",
        "all_data"
      ],
      "execution_count": null,
      "outputs": []
    },
    {
      "cell_type": "markdown",
      "metadata": {
        "id": "jRyH3VIrr20_",
        "colab_type": "text"
      },
      "source": [
        "# Agrupamento K-MEANS"
      ]
    },
    {
      "cell_type": "code",
      "metadata": {
        "id": "HWdKfTve6Q9z",
        "colab_type": "code",
        "colab": {}
      },
      "source": [
        "from sklearn.cluster import KMeans\n",
        "import numpy as np\n",
        "\n",
        "# Agrupamento usando K-means\n",
        "nclusters=3\n",
        "kmeans = KMeans(n_clusters=nclusters).fit(all_data)\n",
        "cntr = kmeans.cluster_centers_"
      ],
      "execution_count": null,
      "outputs": []
    },
    {
      "cell_type": "code",
      "metadata": {
        "id": "c9kfPnko6cTC",
        "colab_type": "code",
        "colab": {}
      },
      "source": [
        "# Visualização de resultados\n",
        "plt.plot(all_data[:,0], all_data[:,1], '*')\n",
        "plt.plot(cntr[:,0], cntr[:,1], '*')\n",
        "plt.grid()"
      ],
      "execution_count": null,
      "outputs": []
    },
    {
      "cell_type": "markdown",
      "metadata": {
        "id": "_oPKHJYEuROt",
        "colab_type": "text"
      },
      "source": [
        "# Agrupamento C-MEANS"
      ]
    },
    {
      "cell_type": "code",
      "metadata": {
        "id": "yC0z8ElGyIhD",
        "colab_type": "code",
        "colab": {}
      },
      "source": [
        "# Agrupamento usando C-means\n",
        "nclusters=3\n",
        "cntr, u, u0, d, jm, p, fpc = fuzz.cluster.cmeans(all_data.T, nclusters, 2, error=0.005, maxiter=1000, init=None)"
      ],
      "execution_count": null,
      "outputs": []
    },
    {
      "cell_type": "markdown",
      "metadata": {
        "id": "NDrmw1tM29vV",
        "colab_type": "text"
      },
      "source": [
        ""
      ]
    },
    {
      "cell_type": "code",
      "metadata": {
        "id": "kw_-VrcDzBFr",
        "colab_type": "code",
        "colab": {}
      },
      "source": [
        "# Visualização de resultados\n",
        "plt.plot(all_data[:,0], all_data[:,1], '*')\n",
        "plt.plot(cntr[:,0], cntr[:,1], '*')\n",
        "plt.grid()"
      ],
      "execution_count": null,
      "outputs": []
    }
  ]
}