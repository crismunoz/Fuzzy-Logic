{
  "nbformat": 4,
  "nbformat_minor": 0,
  "metadata": {
    "colab": {
      "name": "Extração de Regras.ipynb",
      "provenance": [],
      "collapsed_sections": [],
      "toc_visible": true,
      "include_colab_link": true
    },
    "kernelspec": {
      "name": "python3",
      "display_name": "Python 3"
    }
  },
  "cells": [
    {
      "cell_type": "markdown",
      "metadata": {
        "id": "view-in-github",
        "colab_type": "text"
      },
      "source": [
        "<a href=\"https://colab.research.google.com/github/crismunoz/Fuzzy-Logic/blob/master/Extra%C3%A7%C3%A3o_de_Regras.ipynb\" target=\"_parent\"><img src=\"https://colab.research.google.com/assets/colab-badge.svg\" alt=\"Open In Colab\"/></a>"
      ]
    },
    {
      "cell_type": "code",
      "metadata": {
        "id": "MjkWkydwPjpz",
        "colab_type": "code",
        "colab": {}
      },
      "source": [
        "!pip install scikit-fuzzy"
      ],
      "execution_count": null,
      "outputs": []
    },
    {
      "cell_type": "code",
      "metadata": {
        "id": "HcAhi4lPUZku",
        "colab_type": "code",
        "colab": {}
      },
      "source": [
        "import tensorflow as tf\n",
        "import numpy as np\n",
        "import skfuzzy as fuzz\n",
        "from skfuzzy import control as ctrl\n",
        "import matplotlib.pyplot as plt\n",
        "from fuzzy_rules import extract_rules,config_input_variable,config_output_variable\n",
        "from sklearn.metrics import mean_squared_error"
      ],
      "execution_count": null,
      "outputs": []
    },
    {
      "cell_type": "code",
      "metadata": {
        "id": "mlwo7yX9Ubyy",
        "colab_type": "code",
        "colab": {}
      },
      "source": [
        "file_path='Dolar.txt'\n",
        "windows_size=5\n",
        "nb_sets = 5\n",
        "\n",
        "def preprocessing(line):\n",
        "  line = line.strip().replace(',','.')\n",
        "  return float(line)\n",
        "\n",
        "with open(file_path,'r') as file:\n",
        "  series = [preprocessing(line) for line in file]\n",
        "\n",
        "dataset = tf.data.Dataset.from_tensor_slices(series)\n",
        "dataset = dataset.window(windows_size + 1, shift=1, drop_remainder=True)\n",
        "\n",
        "data = np.stack([list(window_dataset) for window_dataset in dataset], axis=0)\n",
        "print('data.shape: {}'.format(data.shape))\n",
        "min_value = data.min()\n",
        "max_value = data.max()\n",
        "\n",
        "print('File Path: {}\\nWindows Siz: {}\\nMin Value: {:.2f}\\nMax Value: {:.2f}'.\\\n",
        "      format(file_path, windows_size, min_value, max_value))"
      ],
      "execution_count": null,
      "outputs": []
    },
    {
      "cell_type": "code",
      "metadata": {
        "id": "1CHV7qnPX6tO",
        "colab_type": "code",
        "colab": {}
      },
      "source": [
        "var_config = {\n",
        "'windows_size':windows_size,\n",
        "'nb_sets':nb_sets,\n",
        "'min':min_value-0.01,\n",
        "'max':max_value+0.01,\n",
        "'type':'input & output'\n",
        "}"
      ],
      "execution_count": null,
      "outputs": []
    },
    {
      "cell_type": "code",
      "metadata": {
        "id": "AWikjheIUeyB",
        "colab_type": "code",
        "colab": {}
      },
      "source": [
        "input_variables  = [config_input_variable('i_{}'.format(i+1), var_config['nb_sets'], var_config['min'], var_config['max']) for i in range(var_config['windows_size'])]\n",
        "output_variables = [config_output_variable('output', var_config['nb_sets'], var_config['min'], var_config['max'])]\n",
        "variables = input_variables + output_variables"
      ],
      "execution_count": null,
      "outputs": []
    },
    {
      "cell_type": "code",
      "metadata": {
        "id": "PrD6XvBPDeKY",
        "colab_type": "code",
        "colab": {}
      },
      "source": [
        "rules = extract_rules(variables, data)\n",
        "system = ctrl.ControlSystem(rules)\n",
        "sim = ctrl.ControlSystemSimulation(system)"
      ],
      "execution_count": null,
      "outputs": []
    },
    {
      "cell_type": "code",
      "metadata": {
        "id": "FNR_lfN3WXG5",
        "colab_type": "code",
        "colab": {}
      },
      "source": [
        "output_real = []\n",
        "output_prev = []\n",
        "for instance in data:\n",
        "  for i,v in enumerate(instance[:-1]):\n",
        "    sim.input['i_{}'.format(i+1)]=instance[i]\n",
        "  sim.compute()\n",
        "  output_prev.append(sim.output['output'])\n",
        "  output_real.append(instance[-1])"
      ],
      "execution_count": null,
      "outputs": []
    },
    {
      "cell_type": "code",
      "metadata": {
        "id": "QAfdutCuHLeC",
        "colab_type": "code",
        "colab": {}
      },
      "source": [
        "plt.figure(figsize=(15,5))\n",
        "plt.plot(output_real,'*')\n",
        "plt.plot(output_prev,'s')"
      ],
      "execution_count": null,
      "outputs": []
    },
    {
      "cell_type": "code",
      "metadata": {
        "id": "pKHxWkXY4cvt",
        "colab_type": "code",
        "colab": {}
      },
      "source": [
        "mean_squared_error(output_real, output_prev)"
      ],
      "execution_count": null,
      "outputs": []
    }
  ]
}