{
  "nbformat": 4,
  "nbformat_minor": 0,
  "metadata": {
    "colab": {
      "name": "Fuzzy C-means(Exemplo 3).ipynb",
      "provenance": [],
      "collapsed_sections": [],
      "toc_visible": true,
      "authorship_tag": "ABX9TyMLTuyu7/oKljpsLhhkMbU2",
      "include_colab_link": true
    },
    "kernelspec": {
      "name": "python3",
      "display_name": "Python 3"
    }
  },
  "cells": [
    {
      "cell_type": "markdown",
      "metadata": {
        "id": "view-in-github",
        "colab_type": "text"
      },
      "source": [
        "<a href=\"https://colab.research.google.com/github/crismunoz/Fuzzy-Logic/blob/master/Fuzzy_C_means_(Exemplo_3).ipynb\" target=\"_parent\"><img src=\"https://colab.research.google.com/assets/colab-badge.svg\" alt=\"Open In Colab\"/></a>"
      ]
    },
    {
      "cell_type": "code",
      "metadata": {
        "id": "V91sSUuH164J",
        "colab_type": "code",
        "colab": {}
      },
      "source": [
        "!pip install  scikit-fuzzy"
      ],
      "execution_count": null,
      "outputs": []
    },
    {
      "cell_type": "code",
      "metadata": {
        "id": "i413dIIPnLD1",
        "colab_type": "code",
        "colab": {}
      },
      "source": [
        "try:\n",
        "  # %tensorflow_version only exists in Colab.\n",
        "  %tensorflow_version 2.x\n",
        "except Exception:\n",
        "  pass\n",
        "\n",
        "%load_ext tensorboard"
      ],
      "execution_count": null,
      "outputs": []
    },
    {
      "cell_type": "code",
      "metadata": {
        "id": "WCTTeKyRnMrC",
        "colab_type": "code",
        "colab": {}
      },
      "source": [
        "# Bibliotecas que serão utilizadas para este turtorial\n",
        "import pandas as pd\n",
        "from tensorboard_helper import CreateTensorboardData\n",
        "import skfuzzy as fuzz"
      ],
      "execution_count": null,
      "outputs": []
    },
    {
      "cell_type": "code",
      "metadata": {
        "id": "UD9dAzsH4jtQ",
        "colab_type": "code",
        "colab": {}
      },
      "source": [
        "# Observação: Colocar na pasta do colab o arquivo \"turkiye-student-evaluation_generic.csv\" \n",
        "\n",
        "# Abrir o arquivo csv com pandas\n",
        "df= pd.read_csv('turkiye-student-evaluation_generic.csv')\n",
        "# Visualizar dataframe\n",
        "df.head()"
      ],
      "execution_count": null,
      "outputs": []
    },
    {
      "cell_type": "code",
      "metadata": {
        "id": "h1h6u4nIhBsm",
        "colab_type": "code",
        "colab": {}
      },
      "source": [
        "# Visualizar a distribuição de classes\n",
        "df['class'].value_counts().plot(kind='bar')"
      ],
      "execution_count": null,
      "outputs": []
    },
    {
      "cell_type": "code",
      "metadata": {
        "id": "mHk1lrH-hTlW",
        "colab_type": "code",
        "colab": {}
      },
      "source": [
        "# Filtramo apenas as avaliações para a classe 13\n",
        "df_g = df[df['class']==13]"
      ],
      "execution_count": null,
      "outputs": []
    },
    {
      "cell_type": "code",
      "metadata": {
        "id": "2bUKWkyb4eD8",
        "colab_type": "code",
        "colab": {}
      },
      "source": [
        "# Pegamos apenas as 28 perguntas como features para agrupamento\n",
        "all_data = df_g.iloc[:, 5:].values/5\n",
        "# Print do shape da matriz\n",
        "all_data.shape"
      ],
      "execution_count": null,
      "outputs": []
    },
    {
      "cell_type": "markdown",
      "metadata": {
        "id": "WXBnXuwQnAlT",
        "colab_type": "text"
      },
      "source": [
        "# Explorando os dados com Tensorboard"
      ]
    },
    {
      "cell_type": "code",
      "metadata": {
        "id": "AAyqJre-bnKC",
        "colab_type": "code",
        "colab": {}
      },
      "source": [
        "# Apagar a pasta data_logs (caso exista)\n",
        "!rm -rf data_logs"
      ],
      "execution_count": null,
      "outputs": []
    },
    {
      "cell_type": "code",
      "metadata": {
        "id": "1pj9_k2ANmz1",
        "colab_type": "code",
        "colab": {}
      },
      "source": [
        "# Gerar os tensores (all_data) e metadados prara visualizar no tensorboard\n",
        "tensor_logs='data_logs'\n",
        "vectors=[uu for uu in all_data]\n",
        "metadatos=[df_g[c].values for c in df_g.columns]\n",
        "colnames=df_g.columns\n",
        "CreateTensorboardData(tensor_logs, vectors, metadatos, colnames=colnames)"
      ],
      "execution_count": null,
      "outputs": []
    },
    {
      "cell_type": "code",
      "metadata": {
        "id": "troIxTmyivrp",
        "colab_type": "code",
        "colab": {}
      },
      "source": [
        "# (Usar em caso tenha algum proceso anterior de tensorboard rodando)\n",
        "# !kill X"
      ],
      "execution_count": null,
      "outputs": []
    },
    {
      "cell_type": "code",
      "metadata": {
        "id": "Im7hYGTQNsDD",
        "colab_type": "code",
        "colab": {}
      },
      "source": [
        "# Abre tensorboard no google colab\n",
        "%tensorboard --logdir data_logs/"
      ],
      "execution_count": null,
      "outputs": []
    },
    {
      "cell_type": "markdown",
      "metadata": {
        "id": "QJ3K24eFyZ5Q",
        "colab_type": "text"
      },
      "source": [
        "# Qual é o melhor número de grupos ??\n",
        "\n",
        "https://www.quora.com/What-are-useful-evaluation-measures-for-fuzzy-clustering\n",
        "\n",
        "El coeficiente de partición difusa (FPC)\n",
        "El FPC se define en el rango de 0 a 1, siendo 1 el mejor. Es una métrica que nos dice cuán limpiamente nuestros datos son descritos por cierto modelo.\n",
        "\n",
        "\n",
        "$FPC = \\frac{1}{n}\\sum_{i=1}^{n}\\sum_{j=1}^{c}u_{ij}^2$"
      ]
    },
    {
      "cell_type": "code",
      "metadata": {
        "id": "AtqaIHxXx8aY",
        "colab_type": "code",
        "colab": {}
      },
      "source": [
        "# Procuramos o fpc desde o 4 grupos  até 50 grupos e seleccionamos quem tem o maior FPC\n",
        "fpcs=[]\n",
        "for ncenters in range(4,50):\n",
        "    cntr, u, u0, d, jm, p, fpc = fuzz.cluster.cmeans(\n",
        "        all_data.T, ncenters, 2, error=0.005, maxiter=1000, init=None)\n",
        "\n",
        "    # Store fpc values for later\n",
        "    fpcs.append(fpc)\n",
        "\n",
        "import matplotlib.pyplot as plt\n",
        "plt.plot(list(range(4,50)),fpcs)\n",
        "plt.grid()"
      ],
      "execution_count": null,
      "outputs": []
    },
    {
      "cell_type": "markdown",
      "metadata": {
        "id": "eGqj26eRnU9S",
        "colab_type": "text"
      },
      "source": [
        "# Explorando clusterização com Tensorboard"
      ]
    },
    {
      "cell_type": "code",
      "metadata": {
        "id": "VkAWjW-35EnQ",
        "colab_type": "code",
        "colab": {}
      },
      "source": [
        "# Realizamos a clusterização com o número de grupos que teve o maior FPC no passo anterior\n",
        "nclusters=5\n",
        "cntr, u, u0, d, jm, p, fpc = fuzz.cluster.cmeans(all_data.T, nclusters, 2, error=0.005, maxiter=2000, init=None)"
      ],
      "execution_count": null,
      "outputs": []
    },
    {
      "cell_type": "code",
      "metadata": {
        "id": "ewPEd_Gs9VP1",
        "colab_type": "code",
        "colab": {}
      },
      "source": [
        "u.shape"
      ],
      "execution_count": null,
      "outputs": []
    },
    {
      "cell_type": "code",
      "metadata": {
        "id": "1ZF_l3hp-XqY",
        "colab_type": "code",
        "colab": {}
      },
      "source": [
        "# Visualização no tensoboard dos vetores u para cada dado\n",
        "# Gerar os tensores (u) e metadados prara visualizar no tensorboard\n",
        "tensor_logs='logs'\n",
        "vectors=[uu for uu in u.T]\n",
        "metadatos=[df_g[c].values for c in df_g.columns]\n",
        "colnames=df_g.columns\n",
        "CreateTensorboardData(tensor_logs, vectors, metadatos, colnames)"
      ],
      "execution_count": null,
      "outputs": []
    },
    {
      "cell_type": "code",
      "metadata": {
        "id": "tYPCwzw8mfKh",
        "colab_type": "code",
        "colab": {}
      },
      "source": [
        "# (Usar em caso tenha algum proceso anterior de tensorboard rodando)\n",
        "# !kill X"
      ],
      "execution_count": null,
      "outputs": []
    },
    {
      "cell_type": "code",
      "metadata": {
        "id": "y7h0w9dpIAiP",
        "colab_type": "code",
        "colab": {}
      },
      "source": [
        "# Abre tensorboard no google colab\n",
        "%tensorboard --logdir logs"
      ],
      "execution_count": null,
      "outputs": []
    }
  ]
}