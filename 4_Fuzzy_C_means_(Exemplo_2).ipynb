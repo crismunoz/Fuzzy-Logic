{
  "nbformat": 4,
  "nbformat_minor": 0,
  "metadata": {
    "colab": {
      "name": "Fuzzy C-means (Exemplo 2).ipynb",
      "provenance": [],
      "collapsed_sections": [],
      "authorship_tag": "ABX9TyPV+uLC+fRNIMUWggEAyJpZ",
      "include_colab_link": true
    },
    "kernelspec": {
      "name": "python3",
      "display_name": "Python 3"
    }
  },
  "cells": [
    {
      "cell_type": "markdown",
      "metadata": {
        "id": "view-in-github",
        "colab_type": "text"
      },
      "source": [
        "<a href=\"https://colab.research.google.com/github/crismunoz/Fuzzy-Logic/blob/master/Fuzzy_C_means_(Exemplo_2).ipynb\" target=\"_parent\"><img src=\"https://colab.research.google.com/assets/colab-badge.svg\" alt=\"Open In Colab\"/></a>"
      ]
    },
    {
      "cell_type": "code",
      "metadata": {
        "id": "_dLMsUGq5HFf",
        "colab_type": "code",
        "colab": {}
      },
      "source": [
        "!pip install  scikit-fuzzy"
      ],
      "execution_count": null,
      "outputs": []
    },
    {
      "cell_type": "code",
      "metadata": {
        "id": "UMPqLQAm8Mr4",
        "colab_type": "code",
        "colab": {}
      },
      "source": [
        "import pandas as pd\n",
        "import skfuzzy as fuzz\n",
        "import plotly.express as px\n",
        "import plotly.graph_objects as go"
      ],
      "execution_count": null,
      "outputs": []
    },
    {
      "cell_type": "code",
      "metadata": {
        "id": "dEGnleMk5Nhe",
        "colab_type": "code",
        "colab": {}
      },
      "source": [
        "df = pd.read_excel('productos.xlsx')\n",
        "df_test = df.iloc[0,:]\n",
        "df = df.iloc[1:]"
      ],
      "execution_count": null,
      "outputs": []
    },
    {
      "cell_type": "code",
      "metadata": {
        "id": "QBFwJKenzvOP",
        "colab_type": "code",
        "colab": {}
      },
      "source": [
        "df.head()"
      ],
      "execution_count": null,
      "outputs": []
    },
    {
      "cell_type": "code",
      "metadata": {
        "id": "xn7VfvFQzxur",
        "colab_type": "code",
        "colab": {}
      },
      "source": [
        "df_test.head()"
      ],
      "execution_count": null,
      "outputs": []
    },
    {
      "cell_type": "code",
      "metadata": {
        "id": "kwJ6f51l_pDx",
        "colab_type": "code",
        "colab": {}
      },
      "source": [
        "x, y, z=df['Proteína'], df['Carboidrato'], df['Gordura']\n",
        "text = df['Alimento']\n",
        "fig = go.Figure(go.Scatter3d(x=x, y=y, z=z, hovertext=text, mode='markers', name='Produtos'))\n",
        "fig.update_layout(scene = dict(aspectmode='cube'))\n",
        "fig.show()"
      ],
      "execution_count": null,
      "outputs": []
    },
    {
      "cell_type": "markdown",
      "metadata": {
        "id": "So_BgI4LsVKR",
        "colab_type": "text"
      },
      "source": [
        "# C-MEANS"
      ]
    },
    {
      "cell_type": "code",
      "metadata": {
        "id": "TaqFimV1-ARz",
        "colab_type": "code",
        "colab": {}
      },
      "source": [
        "all_data = df[['Proteína','Carboidrato','Gordura']].values\n",
        "nclusters=4\n",
        "cntr, u, u0, d, jm, p, fpc = fuzz.cluster.cmeans(all_data.T, nclusters, 2, error=0.005, maxiter=2000, init=None)"
      ],
      "execution_count": null,
      "outputs": []
    },
    {
      "cell_type": "code",
      "metadata": {
        "id": "MNQoHRQjuQjc",
        "colab_type": "code",
        "colab": {}
      },
      "source": [
        "import numpy as np\n",
        "colors = [(255,0,0), (0,255,0), (0,0,255), (0,0,0)]\n",
        "colors = np.array([np.array(c) for c in colors[:nclusters]])\n",
        "\n",
        "# Cores para os centros dos clusters\n",
        "cntr_colors = ['rgb(' + ','.join([str(c) for c in color]) + ')' for color in colors] \n",
        "\n",
        "# Cores para os dados \n",
        "data_colors = np.matmul(u.T,colors)\n",
        "data_colors = ['rgba(' + ','.join([str(c) for c in color]) + ',0.3)' for color in data_colors]"
      ],
      "execution_count": null,
      "outputs": []
    },
    {
      "cell_type": "code",
      "metadata": {
        "id": "D3PE3jG3BDAY",
        "colab_type": "code",
        "colab": {}
      },
      "source": [
        "# Plot dos dados\n",
        "x, y, z=df['Proteína'], df['Carboidrato'], df['Gordura']\n",
        "text = df['Alimento']\n",
        "fig = go.Figure(go.Scatter3d(x=x, y=y, z=z, hovertext=text, mode='markers', name='Produtos', marker=dict(color=data_colors)))\n",
        "\n",
        "# Plot dos centros dos clusters c-means\n",
        "x, y, z = cntr[:,0], cntr[:,1], cntr[:,2]\n",
        "text = [ 'cluster {}'.format(c) for c in range(nclusters)]\n",
        "fig.add_trace(go.Scatter3d(x=x, y=y, z=z, mode='markers', hovertext=text, name='centers', marker=dict(color=cntr_colors)))\n",
        "\n",
        "fig.update_layout(scene = dict(\n",
        "                    xaxis_title='Proteína',\n",
        "                    yaxis_title='Carboidrato',\n",
        "                    zaxis_title='Gordura',\n",
        "                    aspectmode='cube'),\n",
        "                    width=700,\n",
        "                    margin=dict(r=20, b=10, l=10, t=10))\n",
        "fig.show()"
      ],
      "execution_count": null,
      "outputs": []
    },
    {
      "cell_type": "code",
      "metadata": {
        "id": "1U3Czcyp-lKN",
        "colab_type": "code",
        "colab": {}
      },
      "source": [
        "new_data = df_test.iloc[1:].values[np.newaxis,:]\n",
        "u, u0, d, jm, p, fpc = fuzz.cluster.cmeans_predict(new_data.T, cntr, 2, error=0.005, maxiter=1000)"
      ],
      "execution_count": null,
      "outputs": []
    },
    {
      "cell_type": "code",
      "metadata": {
        "id": "Byf8CuOT0Xdk",
        "colab_type": "code",
        "colab": {}
      },
      "source": [
        "pd.DataFrame(u)"
      ],
      "execution_count": null,
      "outputs": []
    }
  ]
}