{
 "cells": [
  {
   "cell_type": "code",
   "execution_count": 1,
   "metadata": {},
   "outputs": [
    {
     "name": "stdout",
     "output_type": "stream",
     "text": [
      "Requirement already satisfied: scikit-fuzzy in /home/cristian/venv/RelationExtraction/lib/python3.7/site-packages (0.4.2)\n",
      "Requirement already satisfied: matplotlib in /home/cristian/venv/RelationExtraction/lib/python3.7/site-packages (3.3.2)\n",
      "Requirement already satisfied: numpy>=1.6.0 in /home/cristian/venv/RelationExtraction/lib/python3.7/site-packages (from scikit-fuzzy) (1.18.5)\n",
      "Requirement already satisfied: networkx>=1.9.0 in /home/cristian/venv/RelationExtraction/lib/python3.7/site-packages (from scikit-fuzzy) (2.5)\n",
      "Requirement already satisfied: scipy>=0.9.0 in /home/cristian/venv/RelationExtraction/lib/python3.7/site-packages (from scikit-fuzzy) (1.4.1)\n",
      "Requirement already satisfied: python-dateutil>=2.1 in /home/cristian/venv/RelationExtraction/lib/python3.7/site-packages (from matplotlib) (2.8.1)\n",
      "Requirement already satisfied: kiwisolver>=1.0.1 in /home/cristian/venv/RelationExtraction/lib/python3.7/site-packages (from matplotlib) (1.2.0)\n",
      "Requirement already satisfied: cycler>=0.10 in /home/cristian/venv/RelationExtraction/lib/python3.7/site-packages (from matplotlib) (0.10.0)\n",
      "Requirement already satisfied: pillow>=6.2.0 in /home/cristian/venv/RelationExtraction/lib/python3.7/site-packages (from matplotlib) (7.2.0)\n",
      "Requirement already satisfied: pyparsing!=2.0.4,!=2.1.2,!=2.1.6,>=2.0.3 in /home/cristian/venv/RelationExtraction/lib/python3.7/site-packages (from matplotlib) (2.4.7)\n",
      "Requirement already satisfied: certifi>=2020.06.20 in /home/cristian/venv/RelationExtraction/lib/python3.7/site-packages (from matplotlib) (2020.6.20)\n",
      "Requirement already satisfied: decorator>=4.3.0 in /home/cristian/venv/RelationExtraction/lib/python3.7/site-packages (from networkx>=1.9.0->scikit-fuzzy) (4.4.2)\n",
      "Requirement already satisfied: six>=1.5 in /home/cristian/venv/RelationExtraction/lib/python3.7/site-packages (from python-dateutil>=2.1->matplotlib) (1.15.0)\n",
      "\u001b[33mWARNING: You are using pip version 20.2.2; however, version 20.2.3 is available.\n",
      "You should consider upgrading via the '/home/cristian/venv/RelationExtraction/bin/python -m pip install --upgrade pip' command.\u001b[0m\n"
     ]
    }
   ],
   "source": [
    "!pip install scikit-fuzzy matplotlib"
   ]
  },
  {
   "cell_type": "code",
   "execution_count": 2,
   "metadata": {},
   "outputs": [],
   "source": [
    "import tensorflow as tf\n",
    "import numpy as np\n",
    "import skfuzzy as fuzz\n",
    "from skfuzzy import control as ctrl\n",
    "import matplotlib.pyplot as plt\n",
    "from fuzzy_rules import extract_rules,config_input_variable,config_output_variable\n",
    "from sklearn.metrics import mean_squared_error\n",
    "from operator import itemgetter\n",
    "from itertools import groupby\n",
    "import os\n",
    "import numpy as np\n",
    "import skfuzzy as fuzz\n",
    "from skfuzzy import control as ctrl\n",
    "from sklearn.metrics import mean_squared_error\n",
    "from sklearn.model_selection import train_test_split"
   ]
  },
  {
   "cell_type": "markdown",
   "metadata": {},
   "source": [
    "## Read dataset"
   ]
  },
  {
   "cell_type": "code",
   "execution_count": 3,
   "metadata": {},
   "outputs": [],
   "source": [
    "def read_dataset(file_path):\n",
    "    def preprocessing(line):\n",
    "        line = line.strip().replace(',','.')\n",
    "        return float(line)\n",
    "\n",
    "    with open(file_path,'r') as file:\n",
    "        series = [preprocessing(line) for line in file]\n",
    "    return series"
   ]
  },
  {
   "cell_type": "markdown",
   "metadata": {},
   "source": [
    "## Configure input output"
   ]
  },
  {
   "cell_type": "code",
   "execution_count": 4,
   "metadata": {},
   "outputs": [
    {
     "name": "stdout",
     "output_type": "stream",
     "text": [
      "{'nb_inputs': 6, 'nb_outputs': 1, 'nb_sets': 12, 'min': 2.0460000000000003, 'max': 2.4099999999999997, 'resolution': 500}\n"
     ]
    }
   ],
   "source": [
    "file_path='Dolar.txt'\n",
    "windows_size=6\n",
    "series = read_dataset(file_path)\n",
    "min_value = min(series)\n",
    "max_value = max(series)\n",
    "\n",
    "# nb_outputs: suport only for nb_outputs=1\n",
    "config = {\n",
    "'nb_inputs':windows_size,\n",
    "'nb_outputs':1,\n",
    "'nb_sets':12,\n",
    "'min':min_value-0.01,\n",
    "'max':max_value+0.01,\n",
    "'resolution':500\n",
    "}\n",
    "\n",
    "print(config)"
   ]
  },
  {
   "cell_type": "markdown",
   "metadata": {},
   "source": [
    "## Preprocessing dataset"
   ]
  },
  {
   "cell_type": "code",
   "execution_count": 8,
   "metadata": {},
   "outputs": [
    {
     "name": "stdout",
     "output_type": "stream",
     "text": [
      "All data:\t(266, 6) (266, 1)\n",
      "train data:\t(212, 6) (212, 1)\n",
      "test data:\t(54, 6) (54, 1)\n"
     ]
    }
   ],
   "source": [
    "dataset = tf.data.Dataset.from_tensor_slices(series)\n",
    "dataset = dataset.window(windows_size + 1, shift=1, drop_remainder=True)\n",
    "data = np.stack([list(window_dataset) for window_dataset in dataset], axis=0)\n",
    "X,y_true = data[:,:-1],data[:,-1:]\n",
    "X_train, X_test, y_train, y_test = train_test_split(X, y_true, test_size=0.20, shuffle=False)\n",
    "\n",
    "print('All data:\\t{} {}'.format(X.shape, y.shape))\n",
    "print('train data:\\t{} {}'.format(X_train.shape, y_train.shape))\n",
    "print('test data:\\t{} {}'.format(X_test.shape, y_test.shape))"
   ]
  },
  {
   "cell_type": "markdown",
   "metadata": {},
   "source": [
    "## Create Fuzzy System"
   ]
  },
  {
   "cell_type": "code",
   "execution_count": 9,
   "metadata": {},
   "outputs": [],
   "source": [
    "rules = extract_rules(config, X_train, y_train)\n",
    "system = ctrl.ControlSystem(rules)\n",
    "sim = ctrl.ControlSystemSimulation(system)"
   ]
  },
  {
   "cell_type": "markdown",
   "metadata": {},
   "source": [
    "## Test model"
   ]
  },
  {
   "cell_type": "code",
   "execution_count": 14,
   "metadata": {},
   "outputs": [
    {
     "name": "stdout",
     "output_type": "stream",
     "text": [
      "mean_squared_error: 0.00017001272802627247\n"
     ]
    },
    {
     "data": {
      "image/png": "[encoded data removed]",
      "text/plain": [
       "<Figure size 1080x360 with 1 Axes>"
      ]
     },
     "metadata": {
      "needs_background": "light"
     },
     "output_type": "display_data"
    }
   ],
   "source": [
    "y_prev = []\n",
    "for x in X:\n",
    "    for i,x_i in enumerate(x):\n",
    "        sim.input['i_{}'.format(i+1)]=x_i\n",
    "    sim.compute()\n",
    "    y_prev.append(sim.output['o_1'])\n",
    "\n",
    "mse = mean_squared_error(y_true, y_prev)\n",
    "print('mean_squared_error: {}'.format(mse))\n",
    "\n",
    "plt.figure(figsize=(15,5))\n",
    "plt.plot(y_true,'*')\n",
    "plt.plot(y_prev,'s')\n",
    "plt.show()"
   ]
  }
 ],
 "metadata": {
  "kernelspec": {
   "display_name": "Python 3",
   "language": "python",
   "name": "python3"
  },
  "language_info": {
   "codemirror_mode": {
    "name": "ipython",
    "version": 3
   },
   "file_extension": ".py",
   "mimetype": "text/x-python",
   "name": "python",
   "nbconvert_exporter": "python",
   "pygments_lexer": "ipython3",
   "version": "3.7.9"
  }
 },
 "nbformat": 4,
 "nbformat_minor": 2
}
