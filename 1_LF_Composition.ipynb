{
  "nbformat": 4,
  "nbformat_minor": 0,
  "metadata": {
    "colab": {
      "name": "LF - Composition.ipynb",
      "provenance": [],
      "collapsed_sections": [],
      "authorship_tag": "ABX9TyNcHNHQkIEvG+hINSOIm5XD",
      "include_colab_link": true
    },
    "kernelspec": {
      "name": "python3",
      "display_name": "Python 3"
    }
  },
  "cells": [
    {
      "cell_type": "markdown",
      "metadata": {
        "id": "view-in-github",
        "colab_type": "text"
      },
      "source": [
        "<a href=\"https://colab.research.google.com/github/crismunoz/Fuzzy-Logic/blob/master/LF_Composition.ipynb\" target=\"_parent\"><img src=\"https://colab.research.google.com/assets/colab-badge.svg\" alt=\"Open In Colab\"/></a>"
      ]
    },
    {
      "cell_type": "code",
      "metadata": {
        "id": "nev89ENguD_1",
        "colab_type": "code",
        "colab": {
          "base_uri": "https://localhost:8080/",
          "height": 102
        },
        "outputId": "57b23c84-b73a-4075-b6bb-c3457da67e8a"
      },
      "source": [
        "#!pip install -U scikit-learn\n",
        "!pip install scikit-fuzzy"
      ],
      "execution_count": null,
      "outputs": [
        {
          "output_type": "stream",
          "text": [
            "Requirement already satisfied: scikit-fuzzy in /usr/local/lib/python3.6/dist-packages (0.4.2)\n",
            "Requirement already satisfied: networkx>=1.9.0 in /usr/local/lib/python3.6/dist-packages (from scikit-fuzzy) (2.4)\n",
            "Requirement already satisfied: numpy>=1.6.0 in /usr/local/lib/python3.6/dist-packages (from scikit-fuzzy) (1.18.5)\n",
            "Requirement already satisfied: scipy>=0.9.0 in /usr/local/lib/python3.6/dist-packages (from scikit-fuzzy) (1.4.1)\n",
            "Requirement already satisfied: decorator>=4.3.0 in /usr/local/lib/python3.6/dist-packages (from networkx>=1.9.0->scikit-fuzzy) (4.4.2)\n"
          ],
          "name": "stdout"
        }
      ]
    },
    {
      "cell_type": "code",
      "metadata": {
        "id": "lTpPa9aHhdBS",
        "colab_type": "code",
        "colab": {}
      },
      "source": [
        "from skfuzzy import maxmin_composition,maxprod_composition\n",
        "import numpy as np"
      ],
      "execution_count": null,
      "outputs": []
    },
    {
      "cell_type": "code",
      "metadata": {
        "id": "-CDbeQamufLI",
        "colab_type": "code",
        "colab": {
          "base_uri": "https://localhost:8080/",
          "height": 136
        },
        "outputId": "45fa89b1-905a-4f73-e9fb-47ce6bb02b07"
      },
      "source": [
        "\n",
        "P_xy = np.array(P_xy)\n",
        "\n",
        "Q_yz = np.array(Q_yz)\n",
        "\n",
        "PoQ_maxmin = maxmin_composition(P_xy,Q_yz)\n",
        "PoQ_maxprod = maxprod_composition(P_xy,Q_yz)\n",
        "print('PoQ_maxmin=',PoQ_maxmin)\n",
        "print()\n",
        "print('PoQ_maxprod=',PoQ_maxprod)"
      ],
      "execution_count": null,
      "outputs": [
        {
          "output_type": "stream",
          "text": [
            "PoQ_maxmin= [[0.2 1.  0.8 0.8]\n",
            " [1.  0.5 0.6 0.5]\n",
            " [0.5 0.9 0.8 1. ]]\n",
            "\n",
            "PoQ_maxprod= [[0.2 1.  0.8 0.8]\n",
            " [1.  0.5 0.6 0.5]\n",
            " [0.5 0.9 0.8 1. ]]\n"
          ],
          "name": "stdout"
        }
      ]
    },
    {
      "cell_type": "code",
      "metadata": {
        "id": "xmGcmZ-hY_5I",
        "colab_type": "code",
        "colab": {
          "base_uri": "https://localhost:8080/",
          "height": 136
        },
        "outputId": "1440878e-a663-413c-aeaf-2e0d661d9635"
      },
      "source": [
        "umm_xy = np.array(umm_xy)\n",
        "\n",
        "ump_yz = np.array(ump_yz)\n",
        "u_R_maxmin = maxmin_composition(umm_xy, ump_yz)\n",
        "u_R_maxprod = maxprod_composition(umm_xy, ump_yz)\n",
        "\n",
        "print('u_R_maxmin=', u_R_maxmin)\n",
        "print()\n",
        "print('u_R_maxprod=', u_R_maxprod)"
      ],
      "execution_count": null,
      "outputs": [
        {
          "output_type": "stream",
          "text": [
            "u_R_maxmin= [[0.6 0.8 0.5]\n",
            " [0.  0.4 0. ]\n",
            " [0.7 0.9 0.7]]\n",
            "\n",
            "u_R_maxprod= [[0.42 0.72 0.35]\n",
            " [0.   0.32 0.  ]\n",
            " [0.63 0.81 0.56]]\n"
          ],
          "name": "stdout"
        }
      ]
    },
    {
      "cell_type": "code",
      "metadata": {
        "id": "VIUERRcrhfQ8",
        "colab_type": "code",
        "colab": {}
      },
      "source": [
        "umm_xy = np.array(umm_xy)\n",
        "\n",
        "ump_yz = np.array(ump_yz)\n",
        "u_R_maxmin = maxmin_composition(umm_xy, ump_yz)\n",
        "u_R_maxprod = maxprod_composition(umm_xy, ump_yz)\n",
        "\n",
        "print('u_R_maxmin=', u_R_maxmin)\n",
        "print()\n",
        "print('u_R_maxprod=', u_R_maxprod)"
      ],
      "execution_count": null,
      "outputs": []
    },
    {
      "cell_type": "code",
      "metadata": {
        "id": "L8WyuRl5vKNA",
        "colab_type": "code",
        "colab": {}
      },
      "source": [
        "R_carateristicas_vs_casas = np.array(R_carateristicas_vs_casas)\n",
        "R_caracteristicas_comprador = np.array(R_caracteristicas_comprador)\n",
        "u_R = maxmin_composition(R_caracteristicas_comprador, R_carateristicas_vs_casas)"
      ],
      "execution_count": null,
      "outputs": []
    }
  ]
}